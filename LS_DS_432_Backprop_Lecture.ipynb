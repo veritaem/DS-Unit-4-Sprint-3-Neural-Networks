{
  "nbformat": 4,
  "nbformat_minor": 0,
  "metadata": {
    "colab": {
      "name": "LS_DS_432_Backprop_Lecture.ipynb",
      "version": "0.3.2",
      "provenance": [],
      "collapsed_sections": [],
      "include_colab_link": true
    },
    "kernelspec": {
      "name": "python3",
      "display_name": "Python 3"
    }
  },
  "cells": [
    {
      "cell_type": "markdown",
      "metadata": {
        "id": "view-in-github",
        "colab_type": "text"
      },
      "source": [
        "<a href=\"https://colab.research.google.com/github/veritaem/DS-Unit-4-Sprint-3-Neural-Networks/blob/master/LS_DS_432_Backprop_Lecture.ipynb\" target=\"_parent\"><img src=\"https://colab.research.google.com/assets/colab-badge.svg\" alt=\"Open In Colab\"/></a>"
      ]
    },
    {
      "cell_type": "markdown",
      "metadata": {
        "id": "Mrl19RIeXgTW",
        "colab_type": "text"
      },
      "source": [
        "# A Review of Yesterday's Content:\n",
        "\n",
        "- Neural Networks are made up of layers of nodes or neurons. \n",
        "- There are three kinds of layers: input, hidden, and output layers.\n",
        "<center><img src=\"https://cdn-images-1.medium.com/max/1600/1*_M4bZyuwaGby6KMiYVYXvg.jpeg\" width=\"400\"></center>\n",
        "- Each layer is made up of individual neurons which have a corresponding weight and bias.\n",
        "<center><img src=\"https://i.stack.imgur.com/6S6Bz.png\" width=\"400\"></center>\n",
        "- Signal is passed from layer to layer through a network by:\n",
        " - Taking in inputs from the training data (or previous layer)\n",
        " - Multiplying each input by its corresponding weight (think arrow/connecting line)\n",
        " - Adding a bias to this weighted some of inputs and weights\n",
        " - Activating this weighted sum + bias by squishifying it with sigmoid or some other activation function. With a single perceptron with three inputs, calculating the output from the node is done like so:\n",
        "\\begin{align}\n",
        " y = sigmoid(\\sum(weight_{1}input_{1} + weight_{2}input_{2} + weight_{3}input_{3}) + bias)\n",
        "\\end{align}\n",
        " - this final activated value is the signal that gets passed onto the next layer of the network.\n"
      ]
    },
    {
      "cell_type": "markdown",
      "metadata": {
        "id": "PzDoNQeFb9nV",
        "colab_type": "text"
      },
      "source": [
        "## Multilayer Perceptrons AKA Feedforward Neural Networks\n",
        "\n",
        "Yesterday we talked about the capabilities and limitations of individual perceptrons.\n",
        "\n",
        "- Perceptrons are like a single neuron in a neural network\n",
        "- Perceptrons can only fit linear boundaries between classes\n",
        "\n",
        "What is a Feedforward Neural Network? Well, it's a Neural Network made up of multiple perceptrons that has at least 1 hidden layer (does not include input and output layers). When we use the [Tensorflow Playground](https://playground.tensorflow.org) website to explore different neural network architectures, we're really just composing different architectures (topologies) of feedforward neural networks. However, when we give the network multiple hidden layers it should be designated as a \"deep\" feedforward neural network.\n",
        "\n",
        "### Perceptron\n",
        "\n",
        "<center><img src=\"http://www.ryanleeallred.com/wp-content/uploads/2019/04/Perceptron.png\" width=\"300\"></center>\n",
        "\n",
        "### Feedforward Neural Network\n",
        "\n",
        "<center><img src=\"http://www.ryanleeallred.com/wp-content/uploads/2019/04/Feedforward-NN.png\" width=\"300\"></center>\n",
        "\n",
        "### Deep Feedforward Neural Network\n",
        "<center><img src=\"http://www.ryanleeallred.com/wp-content/uploads/2019/04/Deep-Feedforward-NN.png\" width=\"400\"></center>\n"
      ]
    },
    {
      "cell_type": "markdown",
      "metadata": {
        "id": "99UvbTjRIoEy",
        "colab_type": "text"
      },
      "source": [
        "# How do Neural Networks Learn?\n",
        "\n",
        "## Calculating *\"loss\"* or *\"error\"*\n",
        "\n",
        "We've talked about how in order to evaluate a network's performance, the data is \"fed forward\" until predictions are obtained and then the \"loss\" or \"error\" for a given observation is ascertained by looking at what the network predicted for that observation and comparing it to what it *should* have predicted. \n",
        "\n",
        "The error for a given observation is calculated by taking the square of the difference between the predicted value and the actual value. \n",
        "\n",
        "We can summarize the overal quality of a network's predictions by finding the average error across all observations. This gives us the \"Mean Squared Error.\" which hopefully is a fairly familiar model evaluation metric by now. Graphing the MSE over each epoch (training cycle) is a common practice with Neural Networks. This is what you're seeing in the top right corner of the Tensorflow Playground website as the number of \"epochs\" climbs higher and higher.\n",
        "\n",
        "We also graphed loss over a number of iterations when working with gradient descent. Neural Networks use gradient descent to find their optimal parameters.\n",
        "\n",
        "<center><img src=\"http://cs231n.github.io/assets/nn3/learningrates.jpeg\" width=\"400\"></center>"
      ]
    },
    {
      "cell_type": "markdown",
      "metadata": {
        "id": "dkJHpgNLlMRe",
        "colab_type": "text"
      },
      "source": [
        "## What is an \"Epoch\"?\n",
        "\n",
        "An \"Epoch\" is one cycle of passing our data forward through the network, measuring error given our specified cost function, and then -via gradient descent- updating weights within our network to hopefully improve the quality of our predictions on the next iteration.\n",
        "\n",
        "### Batch vs Minibatch vs Stochastic Gradient Descent Epochs\n",
        "\n",
        "You may have heard these variations on the training process referenced in the 3Blue1Brown videos about backpropagation. \"Minibatch\" Gradient Descent means that instead of passing all of our data through the network for a given epoch (Batch GD), we just pass a randomized portion of our data through the network for each epoch. \n",
        "\n",
        "Stochastic Gradient Descent is when we make updates to our weights after forward propagating each individual training observation.\n",
        "\n",
        "### Why might we use something like Minibatch GD? \n",
        "\n",
        "Neural Networks often require high quantities of training data. Consider the [MNIST Dataset](http://yann.lecun.com/exdb/mnist/):\n",
        "\n",
        "![MNIST](https://corochann.com/wp-content/uploads/2017/02/mnist_plot-800x600.png)\n",
        "\n",
        "This dataset is what has been used in the 3Blue1Brown videos for demonstrating important neural network concepts. The dataset has 60,000 training observations and 10,000 test observations. SInce there are 10 numeric digits that works out to be 6,000 training images per digit. Do you think our neural network needs to look at all 6000 number 3s in order to get an idea of how accurate or innacurate it is at recognizing the number 3? No, it doesn't. It's actually pretty computationally expensive to run the entire dataset through the network for each epoch, so we'll just randomly select a portion of the dataset for each training epoch.\n",
        "\n",
        "How much of the data should you pass through for each epoch? Well, you'll probably get sick of hearing this response to questions like this, but `batch_size` is another hyperparameter for our model that we'll need to tune to try and get the best results. We'll try different amounts out and try to find an optimal \"batch size.\"\n",
        "\n",
        "### A note about Hyperparameters\n",
        "\n",
        "Neural Networks have many more hyperparameters than other machine learning algorithms which is part of what makes them a beast to train. 1) You need more data to train them on. 2) They're complex so they take longer to train. 3) They have lots and lots of hyperparameters which we need to find the most optimal combination of, so we might end up training our model dozens or hundreds of times with different combinations of hyperparameters in order to try and squeeze out a few more tenths of a percent of accuracy. "
      ]
    },
    {
      "cell_type": "markdown",
      "metadata": {
        "id": "aM4CK1IarId4",
        "colab_type": "text"
      },
      "source": [
        "# Backpropagation\n",
        "\n",
        "Backpropagation is short for [\"Backwards Propagation of errors\"](https://en.wikipedia.org/wiki/Backpropagation) and refers to a specific (rather calculus intensive) algorithm for how weights in a neural network are updated in reverse order at the end of each training epoch. Our purpose today is to demonstrate the backpropagation algorithm on a simple Feedforward Neural Network and in so doing help you get a grasp on the main process. If you want to understand all of the underlying calculus of how the gradients are calculated then you'll need to dive into it yourself, [3Blue1Brown's video is a great starting place](https://www.youtube.com/watch?v=tIeHLnjs5U8). I also highly recommend this Welch Labs series [Neural Networks Demystified](https://www.youtube.com/watch?v=bxe2T-V8XRs) if you want a rapid yet orderly walkthrough of the main intuitions and math behind the backpropagation algorithm. \n",
        "\n"
      ]
    },
    {
      "cell_type": "markdown",
      "metadata": {
        "id": "Dm2HPETcrgy6",
        "colab_type": "text"
      },
      "source": [
        "## FeedForward NN for predicting Test Scores\n",
        "\n",
        "![231 Neural Network](https://cdn-images-1.medium.com/max/1600/1*IjY3wFF24sK9UhiOlf36Bw.png)"
      ]
    },
    {
      "cell_type": "markdown",
      "metadata": {
        "id": "4d4tzpwO6B47",
        "colab_type": "text"
      },
      "source": [
        "### Generate some Fake Data"
      ]
    },
    {
      "cell_type": "code",
      "metadata": {
        "id": "ERyVgeO_IWyV",
        "colab_type": "code",
        "outputId": "26a9287f-adab-4a3d-fbfd-13a6de4eb3a2",
        "colab": {
          "base_uri": "https://localhost:8080/",
          "height": 188
        }
      },
      "source": [
        "import numpy as np\n",
        "np.random.seed(1)\n",
        "\n",
        "# X = (hours studying, hours sleeping), y = score on test\n",
        "X = np.array(([2,9],[1,5],[3,6]), dtype=float)\n",
        "y = np.array(([92],[86],[89]), dtype=float)\n",
        "\n",
        "print(\"Studying, Sleeping \\n\", X)\n",
        "print(X.shape)\n",
        "print(\"Test Score \\n\", y)\n",
        "print(y.shape)"
      ],
      "execution_count": 0,
      "outputs": [
        {
          "output_type": "stream",
          "text": [
            "Studying, Sleeping \n",
            " [[2. 9.]\n",
            " [1. 5.]\n",
            " [3. 6.]]\n",
            "(3, 2)\n",
            "Test Score \n",
            " [[92.]\n",
            " [86.]\n",
            " [89.]]\n",
            "(3, 1)\n"
          ],
          "name": "stdout"
        }
      ]
    },
    {
      "cell_type": "code",
      "metadata": {
        "id": "cDeUBW6k4Ri4",
        "colab_type": "code",
        "outputId": "f6377107-e14e-4ca5-db15-63fae8130e2c",
        "colab": {
          "base_uri": "https://localhost:8080/",
          "height": 155
        }
      },
      "source": [
        "X = X/np.amax(X, axis=0)\n",
        "y = y/100\n",
        "\n",
        "print(\"Studying, Sleeping \\n\", X)\n",
        "print(\"Test Score \\n\", y)"
      ],
      "execution_count": 0,
      "outputs": [
        {
          "output_type": "stream",
          "text": [
            "Studying, Sleeping \n",
            " [[0.66666667 1.        ]\n",
            " [0.33333333 0.55555556]\n",
            " [1.         0.66666667]]\n",
            "Test Score \n",
            " [[0.92]\n",
            " [0.86]\n",
            " [0.89]]\n"
          ],
          "name": "stdout"
        }
      ]
    },
    {
      "cell_type": "markdown",
      "metadata": {
        "id": "bgTf6vTS69Sw",
        "colab_type": "text"
      },
      "source": [
        "### Lets create a Neural_Network class to contain this functionality"
      ]
    },
    {
      "cell_type": "code",
      "metadata": {
        "id": "RUI8VSR5zyBv",
        "colab_type": "code",
        "colab": {}
      },
      "source": [
        "class Neural_Network(object):\n",
        "  def __init__(self):\n",
        "    self.inputs = 2\n",
        "    self.hiddenNodes = 3\n",
        "    self.outputNodes = 1\n",
        "    \n",
        "    # Initlize Weights\n",
        "    self.L1_weights = np.random.randn(self.inputs, self.hiddenNodes) # (2x3)\n",
        "    self.L2_weights = np.random.randn(self.hiddenNodes, self.outputNodes) # (3x1)"
      ],
      "execution_count": 0,
      "outputs": []
    },
    {
      "cell_type": "markdown",
      "metadata": {
        "id": "gbyT_FJ88IlK",
        "colab_type": "text"
      },
      "source": [
        "### How many random weights do we need to initialize? \"Fully-connected Layers\""
      ]
    },
    {
      "cell_type": "code",
      "metadata": {
        "id": "IreIDe6P8H0H",
        "colab_type": "code",
        "outputId": "34868efe-2d29-4333-9bbb-d4eb07bd45c0",
        "colab": {
          "base_uri": "https://localhost:8080/",
          "height": 138
        }
      },
      "source": [
        "NN = Neural_Network()\n",
        "\n",
        "print(\"Layer 1 weights: \\n\", NN.L1_weights)\n",
        "print(\"Layer 2 weights: \\n\", NN.L2_weights)"
      ],
      "execution_count": 0,
      "outputs": [
        {
          "output_type": "stream",
          "text": [
            "Layer 1 weights: \n",
            " [[-0.24937038  1.46210794 -2.06014071]\n",
            " [-0.3224172  -0.38405435  1.13376944]]\n",
            "Layer 2 weights: \n",
            " [[-1.09989127]\n",
            " [-0.17242821]\n",
            " [-0.87785842]]\n"
          ],
          "name": "stdout"
        }
      ]
    },
    {
      "cell_type": "markdown",
      "metadata": {
        "id": "hbxDhyjQ-RwS",
        "colab_type": "text"
      },
      "source": [
        "### Implement Feedforward Functionality\n",
        "\n",
        "After this step our neural network should be able to generate an output even though it has not been trained."
      ]
    },
    {
      "cell_type": "code",
      "metadata": {
        "id": "0gGivpEk-VdP",
        "colab_type": "code",
        "colab": {}
      },
      "source": [
        "class Neural_Network(object):\n",
        "  def __init__(self):\n",
        "    self.inputs = 2\n",
        "    self.hiddenNodes = 3\n",
        "    self.outputNodes = 1\n",
        "\n",
        "    # Initlize Weights\n",
        "    self.L1_weights = np.random.randn(self.inputs, self.hiddenNodes) # (3x2)\n",
        "    self.L2_weights = np.random.randn(self.hiddenNodes, self.outputNodes) # (3x1)\n",
        "\n",
        "  def feed_forward(self, X):\n",
        "    # Weighted sum between inputs and hidden layer\n",
        "    self.hidden_sum = np.dot(X, self.L1_weights)\n",
        "    # Activations of weighted sum\n",
        "    self.activated_hidden = self.sigmoid(self.hidden_sum)\n",
        "    # Weighted sum between hidden and output\n",
        "    self.output_sum = np.dot(self.activated_hidden, self.L2_weights)\n",
        "    # final activation of output\n",
        "    self.activated_output = self.sigmoid(self.output_sum)\n",
        "    return self.activated_output\n",
        "    \n",
        "  def sigmoid(self, s):\n",
        "    return 1/(1+np.exp(-s))\n",
        "    "
      ],
      "execution_count": 0,
      "outputs": []
    },
    {
      "cell_type": "markdown",
      "metadata": {
        "id": "a1pxdfmDAaJg",
        "colab_type": "text"
      },
      "source": [
        "### Can we generate an output?"
      ]
    },
    {
      "cell_type": "code",
      "metadata": {
        "id": "eknilPKeBNBN",
        "colab_type": "code",
        "outputId": "9798d022-0ef1-4921-d25e-5c453fd25664",
        "colab": {
          "base_uri": "https://localhost:8080/",
          "height": 35
        }
      },
      "source": [
        "NN = Neural_Network()\n",
        "output = NN.feed_forward(X[0])\n",
        "print(\"output: \", output)"
      ],
      "execution_count": 0,
      "outputs": [
        {
          "output_type": "stream",
          "text": [
            "output:  [0.39514053]\n"
          ],
          "name": "stdout"
        }
      ]
    },
    {
      "cell_type": "markdown",
      "metadata": {
        "id": "3V61yNmAB2T5",
        "colab_type": "text"
      },
      "source": [
        "### Calculating Error"
      ]
    },
    {
      "cell_type": "code",
      "metadata": {
        "id": "4jh9v8eXB0Mj",
        "colab_type": "code",
        "outputId": "2f6df14a-3eb1-489a-a09b-322df47c3e38",
        "colab": {
          "base_uri": "https://localhost:8080/",
          "height": 35
        }
      },
      "source": [
        "print(y[0]-output)"
      ],
      "execution_count": 0,
      "outputs": [
        {
          "output_type": "stream",
          "text": [
            "[0.52485947]\n"
          ],
          "name": "stdout"
        }
      ]
    },
    {
      "cell_type": "markdown",
      "metadata": {
        "id": "j_eyzItYIxgm",
        "colab_type": "text"
      },
      "source": [
        "## Backpropagation (Assigning blame for bad predictions and delivering justice - repeatedly and a little bit at a time)\n",
        "\n",
        "What in our model could be causing our predictions to suck so bad? \n",
        "\n",
        "Well, we know that our inputs (X) and outputs (y) are correct, if they weren't then we would have bigger problems than understanding backpropagation.\n",
        "\n",
        "We also know that our activation function (sigmoid) is working correctly. It can't be blamed because it just does whatever we tell it to and transforms the data in a known way.\n",
        "\n",
        "So what are the potential culprits for these terrible predictions? The **weights** of our model. Here's the problem though. I have weights that exist in both layers of my model. How do I know if the weights in the first layer are to blame, or the second layer, or both? \n",
        "\n",
        "Lets investigate. And see if we can just eyeball what should be updated."
      ]
    },
    {
      "cell_type": "code",
      "metadata": {
        "id": "_7Qrqr7fSGS_",
        "colab_type": "code",
        "outputId": "1d1aaaad-611e-4749-d829-75ab38c03bd2",
        "colab": {
          "base_uri": "https://localhost:8080/",
          "height": 380
        }
      },
      "source": [
        "# Look at how a single observation is processed\n",
        "print(\"Inputs: \\n\", X[0])\n",
        "print(\"Initial Weights \\n\", NN.L1_weights)\n",
        "print(\"Weighted Sum 1 \\n\", NN.hidden_sum)\n",
        "print(\"Activations from first layer: \\n\", NN.activated_hidden)\n",
        "print(\"Second Layer Weights \\n\", NN.L2_weights)\n",
        "print(\"Weighted Sum 2 \\n\", NN.output_sum)\n",
        "print(\"Predictions \\n\", output)\n",
        "print(\"Correct Output: \\n\", y[0])\n",
        "print(\"Error \\n\", y[0]-output)"
      ],
      "execution_count": 0,
      "outputs": [
        {
          "output_type": "stream",
          "text": [
            "Inputs: \n",
            " [0.66666667 1.        ]\n",
            "Initial Weights \n",
            " [[-0.93576943 -0.26788808  0.53035547]\n",
            " [-0.69166075 -0.39675353 -0.6871727 ]]\n",
            "Weighted Sum 1 \n",
            " [-1.31550704 -0.57534558 -0.33360239]\n",
            "Activations from first layer: \n",
            " [0.21156678 0.36000428 0.41736437]\n",
            "Second Layer Weights \n",
            " [[-0.84520564]\n",
            " [-0.67124613]\n",
            " [-0.0126646 ]]\n",
            "Weighted Sum 2 \n",
            " [-0.42575466]\n",
            "Predictions \n",
            " [0.39514053]\n",
            "Correct Output: \n",
            " [0.92]\n",
            "Error \n",
            " [0.52485947]\n"
          ],
          "name": "stdout"
        }
      ]
    },
    {
      "cell_type": "code",
      "metadata": {
        "id": "rPkfRI-iMvoV",
        "colab_type": "code",
        "colab": {}
      },
      "source": [
        "# I want activations that correspond to negative weights to be lower\n",
        "# and activations that correspond to positive weights to be higher"
      ],
      "execution_count": 0,
      "outputs": []
    },
    {
      "cell_type": "markdown",
      "metadata": {
        "id": "26wgCLU0TLvy",
        "colab_type": "text"
      },
      "source": [
        "Why is my error so big?\n",
        "\n",
        "My error is so big because my prediction is low.\n",
        "\n",
        "Why are my prediction low?\n",
        "\n",
        "Because either:\n",
        "\n",
        "  1) Second layer **weights** are low\n",
        "  \n",
        "  (or)\n",
        "  \n",
        "  2) Activations coming from the first layer are low\n",
        "  \n",
        "How are activations from the first layer determined? \n",
        "\n",
        "  1) By inputs - fixed\n",
        "  \n",
        "  2) by **weights** - variable\n",
        "  \n",
        "The only thing that I have control over throughout this process in order to increase the value of my final predictions is to either increase weights in layer 2 or increase weights in layer 1. \n",
        "\n",
        "Imagine that you could only change your weights by a fixed amount. Say you have .3 and you have to split that up and disperse it over your weights so as to increase your predictions as much as possible. (This isn't actually what happens, but it will help us identify which weights we would benefit the most from moving.)\n",
        "\n",
        "I need to increase weights of my model somewhere, I'll get the biggest bang for my buck if I increase weights in places where I'm already seeing high activation values -because they end up getting multiplied together before being passed to the sigmoid function. \n",
        "\n",
        "> \"Neurons that fire together, wire together\""
      ]
    },
    {
      "cell_type": "code",
      "metadata": {
        "id": "5ur3oFEEV6r7",
        "colab_type": "code",
        "colab": {}
      },
      "source": [
        "class Neural_Network(object):\n",
        "  def __init__(self):\n",
        "    self.inputs = 2\n",
        "    self.hiddenNodes = 3\n",
        "    self.outputNodes = 1\n",
        "\n",
        "    # Initlize Weights\n",
        "    self.L1_weights = np.random.randn(self.inputs, self.hiddenNodes) # (3x2)\n",
        "    self.L2_weights = np.random.randn(self.hiddenNodes, self.outputNodes) # (3x1)\n",
        "\n",
        "  def feed_forward(self, X):\n",
        "    # Weighted sum between inputs and hidden layer\n",
        "    self.hidden_sum = np.dot(X, self.L1_weights)\n",
        "    # Activations of weighted sum\n",
        "    self.activated_hidden = self.sigmoid(self.hidden_sum)\n",
        "    # Weighted sum between hidden and output\n",
        "    self.output_sum = np.dot(self.activated_hidden, self.L2_weights)\n",
        "    # final activation of output\n",
        "    self.activated_output = self.sigmoid(self.output_sum)\n",
        "    return self.activated_output\n",
        "    \n",
        "  def sigmoid(self, s):\n",
        "    return 1/(1+np.exp(-s))\n",
        "  \n",
        "  def sigmoidPrime(self, s):\n",
        "    return s * (1 - s)\n",
        "  \n",
        "  def backward(self, X, y, o):\n",
        "    # backward propgate through the network\n",
        "    self.o_error = y - o # error in output\n",
        "    self.o_delta = self.o_error*self.sigmoidPrime(o) # applying derivative of sigmoid to error\n",
        "\n",
        "    self.z2_error = self.o_delta.dot(self.L2_weights.T) # z2 error: how much our hidden layer weights contributed to output error\n",
        "    self.z2_delta = self.z2_error*self.sigmoidPrime(self.activated_hidden) # applying derivative of sigmoid to z2 error\n",
        "\n",
        "    self.L1_weights += X.T.dot(self.z2_delta) # adjusting first set (input --> hidden) weights\n",
        "    self.L2_weights += self.activated_hidden.T.dot(self.o_delta) # adjusting second set (hidden --> output) weights\n",
        "    \n",
        "  def train (self, X, y):\n",
        "    o = self.feed_forward(X)\n",
        "    self.backward(X, y, o)"
      ],
      "execution_count": 0,
      "outputs": []
    },
    {
      "cell_type": "code",
      "metadata": {
        "id": "wkstIWtDM0ZD",
        "colab_type": "code",
        "outputId": "d9cf7e55-7ad3-4f7f-d5bc-7ae596509a43",
        "colab": {
          "base_uri": "https://localhost:8080/",
          "height": 7358
        }
      },
      "source": [
        "NN = Neural_Network()\n",
        "for i in range(1000): # trains the NN 1,000 times\n",
        "  if i+1 in [1,2,3,4,5] or (i+1) % 50 == 0:\n",
        "    print('+---------- EPOCH', i+1, '-----------+')\n",
        "    print(\"Input: \\n\", X) \n",
        "    print(\"Actual Output: \\n\", y)  \n",
        "    print(\"Predicted Output: \\n\" + str(NN.feed_forward(X))) \n",
        "    print(\"Loss: \\n\" + str(np.mean(np.square(y - NN.feed_forward(X))))) # mean sum squared loss\n",
        "    print(\"\\n\")\n",
        "  NN.train(X, y)"
      ],
      "execution_count": 0,
      "outputs": [
        {
          "output_type": "stream",
          "text": [
            "+---------- EPOCH 1 -----------+\n",
            "Input: \n",
            " [[0.66666667 1.        ]\n",
            " [0.33333333 0.55555556]\n",
            " [1.         0.66666667]]\n",
            "Actual Output: \n",
            " [[0.92]\n",
            " [0.86]\n",
            " [0.89]]\n",
            "Predicted Output: \n",
            "[[0.22802266]\n",
            " [0.25065938]\n",
            " [0.23431034]]\n",
            "Loss: \n",
            "0.4266858554866142\n",
            "\n",
            "\n",
            "+---------- EPOCH 2 -----------+\n",
            "Input: \n",
            " [[0.66666667 1.        ]\n",
            " [0.33333333 0.55555556]\n",
            " [1.         0.66666667]]\n",
            "Actual Output: \n",
            " [[0.92]\n",
            " [0.86]\n",
            " [0.89]]\n",
            "Predicted Output: \n",
            "[[0.32455137]\n",
            " [0.33812227]\n",
            " [0.33292559]]\n",
            "Loss: \n",
            "0.31241577984267854\n",
            "\n",
            "\n",
            "+---------- EPOCH 3 -----------+\n",
            "Input: \n",
            " [[0.66666667 1.        ]\n",
            " [0.33333333 0.55555556]\n",
            " [1.         0.66666667]]\n",
            "Actual Output: \n",
            " [[0.92]\n",
            " [0.86]\n",
            " [0.89]]\n",
            "Predicted Output: \n",
            "[[0.43846681]\n",
            " [0.43914507]\n",
            " [0.4486507 ]]\n",
            "Loss: \n",
            "0.20126076449131203\n",
            "\n",
            "\n",
            "+---------- EPOCH 4 -----------+\n",
            "Input: \n",
            " [[0.66666667 1.        ]\n",
            " [0.33333333 0.55555556]\n",
            " [1.         0.66666667]]\n",
            "Actual Output: \n",
            " [[0.92]\n",
            " [0.86]\n",
            " [0.89]]\n",
            "Predicted Output: \n",
            "[[0.54265772]\n",
            " [0.53162286]\n",
            " [0.55356878]]\n",
            "Loss: \n",
            "0.12113490313517154\n",
            "\n",
            "\n",
            "+---------- EPOCH 5 -----------+\n",
            "Input: \n",
            " [[0.66666667 1.        ]\n",
            " [0.33333333 0.55555556]\n",
            " [1.         0.66666667]]\n",
            "Actual Output: \n",
            " [[0.92]\n",
            " [0.86]\n",
            " [0.89]]\n",
            "Predicted Output: \n",
            "[[0.62060409]\n",
            " [0.60182348]\n",
            " [0.6312855 ]]\n",
            "Loss: \n",
            "0.07440874036861328\n",
            "\n",
            "\n",
            "+---------- EPOCH 50 -----------+\n",
            "Input: \n",
            " [[0.66666667 1.        ]\n",
            " [0.33333333 0.55555556]\n",
            " [1.         0.66666667]]\n",
            "Actual Output: \n",
            " [[0.92]\n",
            " [0.86]\n",
            " [0.89]]\n",
            "Predicted Output: \n",
            "[[0.88807906]\n",
            " [0.86072506]\n",
            " [0.89145207]]\n",
            "Loss: \n",
            "0.0003405268296656977\n",
            "\n",
            "\n",
            "+---------- EPOCH 100 -----------+\n",
            "Input: \n",
            " [[0.66666667 1.        ]\n",
            " [0.33333333 0.55555556]\n",
            " [1.         0.66666667]]\n",
            "Actual Output: \n",
            " [[0.92]\n",
            " [0.86]\n",
            " [0.89]]\n",
            "Predicted Output: \n",
            "[[0.89657411]\n",
            " [0.86977959]\n",
            " [0.89949197]]\n",
            "Loss: \n",
            "0.00024483670987972094\n",
            "\n",
            "\n",
            "+---------- EPOCH 150 -----------+\n",
            "Input: \n",
            " [[0.66666667 1.        ]\n",
            " [0.33333333 0.55555556]\n",
            " [1.         0.66666667]]\n",
            "Actual Output: \n",
            " [[0.92]\n",
            " [0.86]\n",
            " [0.89]]\n",
            "Predicted Output: \n",
            "[[0.89767118]\n",
            " [0.87090155]\n",
            " [0.90046566]]\n",
            "Loss: \n",
            "0.00024231660217456996\n",
            "\n",
            "\n",
            "+---------- EPOCH 200 -----------+\n",
            "Input: \n",
            " [[0.66666667 1.        ]\n",
            " [0.33333333 0.55555556]\n",
            " [1.         0.66666667]]\n",
            "Actual Output: \n",
            " [[0.92]\n",
            " [0.86]\n",
            " [0.89]]\n",
            "Predicted Output: \n",
            "[[0.89786137]\n",
            " [0.8710448 ]\n",
            " [0.90057387]]\n",
            "Loss: \n",
            "0.00024130447822876946\n",
            "\n",
            "\n",
            "+---------- EPOCH 250 -----------+\n",
            "Input: \n",
            " [[0.66666667 1.        ]\n",
            " [0.33333333 0.55555556]\n",
            " [1.         0.66666667]]\n",
            "Actual Output: \n",
            " [[0.92]\n",
            " [0.86]\n",
            " [0.89]]\n",
            "Predicted Output: \n",
            "[[0.89792404]\n",
            " [0.87105111]\n",
            " [0.90056109]]\n",
            "Loss: \n",
            "0.0002403372549643823\n",
            "\n",
            "\n",
            "+---------- EPOCH 300 -----------+\n",
            "Input: \n",
            " [[0.66666667 1.        ]\n",
            " [0.33333333 0.55555556]\n",
            " [1.         0.66666667]]\n",
            "Actual Output: \n",
            " [[0.92]\n",
            " [0.86]\n",
            " [0.89]]\n",
            "Predicted Output: \n",
            "[[0.89796811]\n",
            " [0.87103825]\n",
            " [0.90053137]]\n",
            "Loss: \n",
            "0.0002393856665830539\n",
            "\n",
            "\n",
            "+---------- EPOCH 350 -----------+\n",
            "Input: \n",
            " [[0.66666667 1.        ]\n",
            " [0.33333333 0.55555556]\n",
            " [1.         0.66666667]]\n",
            "Actual Output: \n",
            " [[0.92]\n",
            " [0.86]\n",
            " [0.89]]\n",
            "Predicted Output: \n",
            "[[0.89800909]\n",
            " [0.871023  ]\n",
            " [0.90049951]]\n",
            "Loss: \n",
            "0.00023844873582426192\n",
            "\n",
            "\n",
            "+---------- EPOCH 400 -----------+\n",
            "Input: \n",
            " [[0.66666667 1.        ]\n",
            " [0.33333333 0.55555556]\n",
            " [1.         0.66666667]]\n",
            "Actual Output: \n",
            " [[0.92]\n",
            " [0.86]\n",
            " [0.89]]\n",
            "Predicted Output: \n",
            "[[0.8980492 ]\n",
            " [0.87100773]\n",
            " [0.9004676 ]]\n",
            "Loss: \n",
            "0.00023752606162328837\n",
            "\n",
            "\n",
            "+---------- EPOCH 450 -----------+\n",
            "Input: \n",
            " [[0.66666667 1.        ]\n",
            " [0.33333333 0.55555556]\n",
            " [1.         0.66666667]]\n",
            "Actual Output: \n",
            " [[0.92]\n",
            " [0.86]\n",
            " [0.89]]\n",
            "Predicted Output: \n",
            "[[0.89808877]\n",
            " [0.87099277]\n",
            " [0.90043593]]\n",
            "Loss: \n",
            "0.00023661726555665387\n",
            "\n",
            "\n",
            "+---------- EPOCH 500 -----------+\n",
            "Input: \n",
            " [[0.66666667 1.        ]\n",
            " [0.33333333 0.55555556]\n",
            " [1.         0.66666667]]\n",
            "Actual Output: \n",
            " [[0.92]\n",
            " [0.86]\n",
            " [0.89]]\n",
            "Predicted Output: \n",
            "[[0.89812783]\n",
            " [0.87097817]\n",
            " [0.90040452]]\n",
            "Loss: \n",
            "0.000235721981257481\n",
            "\n",
            "\n",
            "+---------- EPOCH 550 -----------+\n",
            "Input: \n",
            " [[0.66666667 1.        ]\n",
            " [0.33333333 0.55555556]\n",
            " [1.         0.66666667]]\n",
            "Actual Output: \n",
            " [[0.92]\n",
            " [0.86]\n",
            " [0.89]]\n",
            "Predicted Output: \n",
            "[[0.89816643]\n",
            " [0.87096392]\n",
            " [0.90037339]]\n",
            "Loss: \n",
            "0.0002348398538993717\n",
            "\n",
            "\n",
            "+---------- EPOCH 600 -----------+\n",
            "Input: \n",
            " [[0.66666667 1.        ]\n",
            " [0.33333333 0.55555556]\n",
            " [1.         0.66666667]]\n",
            "Actual Output: \n",
            " [[0.92]\n",
            " [0.86]\n",
            " [0.89]]\n",
            "Predicted Output: \n",
            "[[0.89820456]\n",
            " [0.87095002]\n",
            " [0.90034251]]\n",
            "Loss: \n",
            "0.0002339705397768928\n",
            "\n",
            "\n",
            "+---------- EPOCH 650 -----------+\n",
            "Input: \n",
            " [[0.66666667 1.        ]\n",
            " [0.33333333 0.55555556]\n",
            " [1.         0.66666667]]\n",
            "Actual Output: \n",
            " [[0.92]\n",
            " [0.86]\n",
            " [0.89]]\n",
            "Predicted Output: \n",
            "[[0.89824224]\n",
            " [0.87093646]\n",
            " [0.90031188]]\n",
            "Loss: \n",
            "0.00023311370589101552\n",
            "\n",
            "\n",
            "+---------- EPOCH 700 -----------+\n",
            "Input: \n",
            " [[0.66666667 1.        ]\n",
            " [0.33333333 0.55555556]\n",
            " [1.         0.66666667]]\n",
            "Actual Output: \n",
            " [[0.92]\n",
            " [0.86]\n",
            " [0.89]]\n",
            "Predicted Output: \n",
            "[[0.89827948]\n",
            " [0.87092324]\n",
            " [0.90028148]]\n",
            "Loss: \n",
            "0.00023226902955160076\n",
            "\n",
            "\n",
            "+---------- EPOCH 750 -----------+\n",
            "Input: \n",
            " [[0.66666667 1.        ]\n",
            " [0.33333333 0.55555556]\n",
            " [1.         0.66666667]]\n",
            "Actual Output: \n",
            " [[0.92]\n",
            " [0.86]\n",
            " [0.89]]\n",
            "Predicted Output: \n",
            "[[0.89831629]\n",
            " [0.87091035]\n",
            " [0.90025132]]\n",
            "Loss: \n",
            "0.00023143619799813472\n",
            "\n",
            "\n",
            "+---------- EPOCH 800 -----------+\n",
            "Input: \n",
            " [[0.66666667 1.        ]\n",
            " [0.33333333 0.55555556]\n",
            " [1.         0.66666667]]\n",
            "Actual Output: \n",
            " [[0.92]\n",
            " [0.86]\n",
            " [0.89]]\n",
            "Predicted Output: \n",
            "[[0.89835268]\n",
            " [0.87089779]\n",
            " [0.90022138]]\n",
            "Loss: \n",
            "0.00023061490803798725\n",
            "\n",
            "\n",
            "+---------- EPOCH 850 -----------+\n",
            "Input: \n",
            " [[0.66666667 1.        ]\n",
            " [0.33333333 0.55555556]\n",
            " [1.         0.66666667]]\n",
            "Actual Output: \n",
            " [[0.92]\n",
            " [0.86]\n",
            " [0.89]]\n",
            "Predicted Output: \n",
            "[[0.89838866]\n",
            " [0.87088554]\n",
            " [0.90019165]]\n",
            "Loss: \n",
            "0.0002298048657012104\n",
            "\n",
            "\n",
            "+---------- EPOCH 900 -----------+\n",
            "Input: \n",
            " [[0.66666667 1.        ]\n",
            " [0.33333333 0.55555556]\n",
            " [1.         0.66666667]]\n",
            "Actual Output: \n",
            " [[0.92]\n",
            " [0.86]\n",
            " [0.89]]\n",
            "Predicted Output: \n",
            "[[0.89842424]\n",
            " [0.87087361]\n",
            " [0.90016212]]\n",
            "Loss: \n",
            "0.00022900578591098972\n",
            "\n",
            "\n",
            "+---------- EPOCH 950 -----------+\n",
            "Input: \n",
            " [[0.66666667 1.        ]\n",
            " [0.33333333 0.55555556]\n",
            " [1.         0.66666667]]\n",
            "Actual Output: \n",
            " [[0.92]\n",
            " [0.86]\n",
            " [0.89]]\n",
            "Predicted Output: \n",
            "[[0.89845943]\n",
            " [0.87086198]\n",
            " [0.9001328 ]]\n",
            "Loss: \n",
            "0.00022821739216884524\n",
            "\n",
            "\n",
            "+---------- EPOCH 1000 -----------+\n",
            "Input: \n",
            " [[0.66666667 1.        ]\n",
            " [0.33333333 0.55555556]\n",
            " [1.         0.66666667]]\n",
            "Actual Output: \n",
            " [[0.92]\n",
            " [0.86]\n",
            " [0.89]]\n",
            "Predicted Output: \n",
            "[[0.89849424]\n",
            " [0.87085065]\n",
            " [0.90010366]]\n",
            "Loss: \n",
            "0.0002274394162538074\n",
            "\n",
            "\n"
          ],
          "name": "stdout"
        }
      ]
    },
    {
      "cell_type": "markdown",
      "metadata": {
        "id": "16Ujj6vNYQyX",
        "colab_type": "text"
      },
      "source": [
        "## Diagnosing Backpropagation issues by hand. (not recommended but might help you understand the algorithm better)\n",
        "\n",
        "Our model has 9 total weights (6 in the first layer, 3 in the last layer) that could be off.\n",
        "\n",
        "1) Calculate Error for a given each observation\n",
        "\n",
        "2) Does the error indicate that I'm overestimating or underestimating in my prediction?\n",
        "\n",
        "3) Look at final layer weights to get an idea for which weights are helping pass desireable signals and which are stifling desireable signals\n",
        "\n",
        "4) Also go to the previous layer and see what can be done to boost activations that are associated with helpful weights, and limit activations that are associated with unhelpful weights. Also changing the weights in this earlier layer could be helpful since they are what will be multiplied by the input values, summed, and activated to create the activations that affect the second layer. \n",
        "\n",
        "### However, we would prefer to do all this in a fancy automated, controlled calculus way (Gradient Descent).\n",
        "\n",
        "5) Repeat steps 1-4 for every observation in a given batch, and then given the network's cost function, calculate its gradient using calculus and update weights associated with the (negative) gradient of the cost function. \n",
        "\n",
        "Remember that we have 9 weights in our network therefore the gradient that comes from our gradient descent calculation will be the vector that takes us in the most downward direction along some function in 9-dimensional hyperspace.\n",
        "\n",
        "\\begin{align}\n",
        "C(w1, w2, w3, w4, w5, w6, w7, w8, w9)\n",
        "\\end{align}\n",
        "\n",
        "You should also know that with neural networks it is common to have gradients that are not convex (like what we saw when we applied gradient descent to linear regression). Due to the high complexity of these models and their nonlinearity, it is common for gradient descent to get stuck in a local minimum, but there are ways to combat this:\n",
        "\n",
        "1) Stochastic Gradient Descent\n",
        "\n",
        "2) More advanced Gradient-Descent-based \"Optimizers\" - See Stretch Goals on assignment.\n"
      ]
    },
    {
      "cell_type": "markdown",
      "metadata": {
        "id": "ZF7UE-KluPsX",
        "colab_type": "text"
      },
      "source": [
        "## A true GD-based implementation from [Welch Labs](https://www.youtube.com/watch?v=bxe2T-V8XRs)"
      ]
    },
    {
      "cell_type": "code",
      "metadata": {
        "id": "SPlNkC91o6OU",
        "colab_type": "code",
        "colab": {}
      },
      "source": [
        "class Neural_Network(object):\n",
        "    def __init__(self):        \n",
        "        #Define Hyperparameters\n",
        "        self.inputLayerSize = 2\n",
        "        self.outputLayerSize = 1\n",
        "        self.hiddenLayerSize = 3\n",
        "        \n",
        "        #Weights (parameters)\n",
        "        self.W1 = np.random.randn(self.inputLayerSize,self.hiddenLayerSize)\n",
        "        self.W2 = np.random.randn(self.hiddenLayerSize,self.outputLayerSize)\n",
        "        \n",
        "    def forward(self, X):\n",
        "        #Propogate inputs though network\n",
        "        self.z2 = np.dot(X, self.W1)\n",
        "        self.a2 = self.sigmoid(self.z2)\n",
        "        self.z3 = np.dot(self.a2, self.W2)\n",
        "        yHat = self.sigmoid(self.z3) \n",
        "        return yHat\n",
        "        \n",
        "    def sigmoid(self, z):\n",
        "        #Apply sigmoid activation function to scalar, vector, or matrix\n",
        "        return 1/(1+np.exp(-z))\n",
        "    \n",
        "    def sigmoidPrime(self,z):\n",
        "        #Gradient of sigmoid\n",
        "        return np.exp(-z)/((1+np.exp(-z))**2)\n",
        "    \n",
        "    def costFunction(self, X, y):\n",
        "        #Compute cost for given X,y, use weights already stored in class.\n",
        "        self.yHat = self.forward(X)\n",
        "        J = 0.5*sum((y-self.yHat)**2)\n",
        "        return J\n",
        "        \n",
        "    def costFunctionPrime(self, X, y):\n",
        "        #Compute derivative with respect to W and W2 for a given X and y:\n",
        "        self.yHat = self.forward(X)\n",
        "        \n",
        "        delta3 = np.multiply(-(y-self.yHat), self.sigmoidPrime(self.z3))\n",
        "        dJdW2 = np.dot(self.a2.T, delta3)\n",
        "        \n",
        "        delta2 = np.dot(delta3, self.W2.T)*self.sigmoidPrime(self.z2)\n",
        "        dJdW1 = np.dot(X.T, delta2)  \n",
        "        \n",
        "        return dJdW1, dJdW2\n",
        "    \n",
        "    #Helper Functions for interacting with other classes:\n",
        "    def getParams(self):\n",
        "        #Get W1 and W2 unrolled into vector:\n",
        "        params = np.concatenate((self.W1.ravel(), self.W2.ravel()))\n",
        "        return params\n",
        "    \n",
        "    def setParams(self, params):\n",
        "        #Set W1 and W2 using single paramater vector.\n",
        "        W1_start = 0\n",
        "        W1_end = self.hiddenLayerSize * self.inputLayerSize\n",
        "        self.W1 = np.reshape(params[W1_start:W1_end], (self.inputLayerSize , self.hiddenLayerSize))\n",
        "        W2_end = W1_end + self.hiddenLayerSize*self.outputLayerSize\n",
        "        self.W2 = np.reshape(params[W1_end:W2_end], (self.hiddenLayerSize, self.outputLayerSize))\n",
        "        \n",
        "    def computeGradients(self, X, y):\n",
        "        dJdW1, dJdW2 = self.costFunctionPrime(X, y)\n",
        "        return np.concatenate((dJdW1.ravel(), dJdW2.ravel()))"
      ],
      "execution_count": 0,
      "outputs": []
    },
    {
      "cell_type": "code",
      "metadata": {
        "id": "uA9LaTgKr6rP",
        "colab_type": "code",
        "colab": {}
      },
      "source": [
        "from scipy import optimize\n",
        "class trainer(object):\n",
        "    def __init__(self, N):\n",
        "        #Make Local reference to network:\n",
        "        self.N = N\n",
        "        \n",
        "    def callbackF(self, params):\n",
        "        self.N.setParams(params)\n",
        "        self.J.append(self.N.costFunction(self.X, self.y))   \n",
        "        \n",
        "    def costFunctionWrapper(self, params, X, y):\n",
        "        self.N.setParams(params)\n",
        "        cost = self.N.costFunction(X, y)\n",
        "        grad = self.N.computeGradients(X,y)\n",
        "        \n",
        "        return cost, grad\n",
        "        \n",
        "    def train(self, X, y):\n",
        "        #Make an internal variable for the callback function:\n",
        "        self.X = X\n",
        "        self.y = y\n",
        "\n",
        "        #Make empty list to store costs:\n",
        "        self.J = []\n",
        "        \n",
        "        params0 = self.N.getParams()\n",
        "\n",
        "        options = {'maxiter': 20, 'disp' : True}\n",
        "        _res = optimize.minimize(self.costFunctionWrapper, params0, jac=True, method='BFGS', \\\n",
        "                                 args=(X, y), options=options, callback=self.callbackF)\n",
        "\n",
        "        self.N.setParams(_res.x)\n",
        "        self.optimizationResults = _res"
      ],
      "execution_count": 0,
      "outputs": []
    },
    {
      "cell_type": "code",
      "metadata": {
        "id": "g_kHb6Se1u9y",
        "colab_type": "code",
        "colab": {}
      },
      "source": [
        "NN = Neural_Network()"
      ],
      "execution_count": 0,
      "outputs": []
    },
    {
      "cell_type": "code",
      "metadata": {
        "id": "hYYVhFf4rn3q",
        "colab_type": "code",
        "colab": {}
      },
      "source": [
        "T = trainer(NN)"
      ],
      "execution_count": 0,
      "outputs": []
    },
    {
      "cell_type": "code",
      "metadata": {
        "id": "L-gYdVfgrysE",
        "colab_type": "code",
        "outputId": "97742d4e-7dd9-41db-a96b-1a2d103ede98",
        "colab": {
          "base_uri": "https://localhost:8080/",
          "height": 104
        }
      },
      "source": [
        "T.train(X,y)"
      ],
      "execution_count": 0,
      "outputs": [
        {
          "output_type": "stream",
          "text": [
            "Warning: Maximum number of iterations has been exceeded.\n",
            "         Current function value: 0.000191\n",
            "         Iterations: 20\n",
            "         Function evaluations: 27\n",
            "         Gradient evaluations: 27\n"
          ],
          "name": "stdout"
        }
      ]
    },
    {
      "cell_type": "code",
      "metadata": {
        "id": "Jyv_L8Z2sKOA",
        "colab_type": "code",
        "outputId": "08725651-6d21-401b-85c0-3487370b8bc0",
        "colab": {
          "base_uri": "https://localhost:8080/",
          "height": 121
        }
      },
      "source": [
        "print(\"Predicted Output: \\n\" + str(NN.forward(X))) \n",
        "print(\"Loss: \\n\" + str(np.mean(np.square(y - NN.forward(X))))) # mean sum squared loss"
      ],
      "execution_count": 0,
      "outputs": [
        {
          "output_type": "stream",
          "text": [
            "Predicted Output: \n",
            "[[0.90556564]\n",
            " [0.87198609]\n",
            " [0.8911134 ]]\n",
            "Loss: \n",
            "0.00011775223475934195\n"
          ],
          "name": "stdout"
        }
      ]
    },
    {
      "cell_type": "code",
      "metadata": {
        "id": "Gtf9WI9FtGPk",
        "colab_type": "code",
        "outputId": "69e4b3c1-8afe-45df-f381-87eef8056f87",
        "colab": {
          "base_uri": "https://localhost:8080/",
          "height": 361
        }
      },
      "source": [
        "import matplotlib.pyplot as plt\n",
        "plt.plot(T.J)\n",
        "plt.xlabel('Iterations')\n",
        "plt.ylabel('Cost')\n",
        "plt.show()     "
      ],
      "execution_count": 0,
      "outputs": [
        {
          "output_type": "display_data",
          "data": {
            "image/png": "[encoded data removed]",
            "text/plain": [
              "<Figure size 576x396 with 1 Axes>"
            ]
          },
          "metadata": {
            "tags": []
          }
        }
      ]
    },
    {
      "cell_type": "code",
      "metadata": {
        "id": "W81ENccTtkvT",
        "colab_type": "code",
        "colab": {}
      },
      "source": [
        ""
      ],
      "execution_count": 0,
      "outputs": []
    }
  ]
}