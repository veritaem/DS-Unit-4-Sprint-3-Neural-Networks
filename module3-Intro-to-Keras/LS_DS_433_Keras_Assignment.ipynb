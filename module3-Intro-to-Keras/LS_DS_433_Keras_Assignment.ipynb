{
  "nbformat": 4,
  "nbformat_minor": 0,
  "metadata": {
    "colab": {
      "name": "LS_DS_433_Keras_Assignment.ipynb",
      "version": "0.3.2",
      "provenance": []
    },
    "kernelspec": {
      "name": "python3",
      "display_name": "Python 3"
    }
  },
  "cells": [
    {
      "cell_type": "markdown",
      "metadata": {
        "id": "pBQsZEJmubLs",
        "colab_type": "text"
      },
      "source": [
        "## Use the Keras Library to build a Multi-Layer Perceptron Model on the Boston Housing dataset\n",
        "\n",
        "- The Boston Housing dataset comes with the Keras library so use Keras to import it into your notebook. \n",
        "- Normalize the data (all features should have roughly the same scale)\n",
        "- Import the type of model and layers that you will need from Keras.\n",
        "- Instantiate a model object and use `model.add()` to add layers to your model\n",
        "- Since this is a regression model you will have a single output node in the final layer.\n",
        "- Use activation functions that are appropriate for this task\n",
        "- Compile your model\n",
        "- Fit your model and report its accuracy in terms of Mean Squared Error\n",
        "- Use the history object that is returned from model.fit to make graphs of the model's loss or train/validation accuracies by epoch. \n",
        "- Run this same data through a linear regression model. Which achieves higher accuracy?\n",
        "- Do a little bit of feature engineering and see how that affects your neural network model. (you will need to change your model to accept more inputs)\n",
        "- After feature engineering, which model sees a greater accuracy boost due to the new features?"
      ]
    },
    {
      "cell_type": "code",
      "metadata": {
        "id": "8NLTAR87uYJ-",
        "colab_type": "code",
        "colab": {
          "base_uri": "https://localhost:8080/",
          "height": 72
        },
        "outputId": "a17e1c42-e761-4667-96fe-aa21dc191c1e"
      },
      "source": [
        "import keras\n",
        "import numpy as np\n",
        "import pandas as pd\n",
        "import matplotlib.pyplot as plt\n",
        "from keras.datasets import boston_housing\n",
        "from keras.models import Sequential\n",
        "from keras import layers\n",
        "from keras.layers import Dense, Dropout\n",
        "from keras.layers.advanced_activations import LeakyReLU\n",
        "\n",
        "(train_data, train_targets), (test_data, test_targets) = boston_housing.load_data()"
      ],
      "execution_count": 1,
      "outputs": [
        {
          "output_type": "stream",
          "text": [
            "Using TensorFlow backend.\n"
          ],
          "name": "stderr"
        },
        {
          "output_type": "stream",
          "text": [
            "Downloading data from https://s3.amazonaws.com/keras-datasets/boston_housing.npz\n",
            "57344/57026 [==============================] - 0s 1us/step\n"
          ],
          "name": "stdout"
        }
      ]
    },
    {
      "cell_type": "code",
      "metadata": {
        "id": "5YzrEHm_H86F",
        "colab_type": "code",
        "colab": {
          "base_uri": "https://localhost:8080/",
          "height": 35
        },
        "outputId": "7431c268-c193-4bd2-95fa-5f9de4378b9b"
      },
      "source": [
        "print(train_data.shape, train_targets.shape, test_data.shape, test_targets.shape)"
      ],
      "execution_count": 2,
      "outputs": [
        {
          "output_type": "stream",
          "text": [
            "(404, 13) (404,) (102, 13) (102,)\n"
          ],
          "name": "stdout"
        }
      ]
    },
    {
      "cell_type": "code",
      "metadata": {
        "id": "cqJNWCjCP6SF",
        "colab_type": "code",
        "colab": {
          "base_uri": "https://localhost:8080/",
          "height": 256
        },
        "outputId": "04db47f9-1bed-4697-a1f3-11216c9c5269"
      },
      "source": [
        "train_data"
      ],
      "execution_count": 3,
      "outputs": [
        {
          "output_type": "execute_result",
          "data": {
            "text/plain": [
              "array([[1.23247e+00, 0.00000e+00, 8.14000e+00, ..., 2.10000e+01,\n",
              "        3.96900e+02, 1.87200e+01],\n",
              "       [2.17700e-02, 8.25000e+01, 2.03000e+00, ..., 1.47000e+01,\n",
              "        3.95380e+02, 3.11000e+00],\n",
              "       [4.89822e+00, 0.00000e+00, 1.81000e+01, ..., 2.02000e+01,\n",
              "        3.75520e+02, 3.26000e+00],\n",
              "       ...,\n",
              "       [3.46600e-02, 3.50000e+01, 6.06000e+00, ..., 1.69000e+01,\n",
              "        3.62250e+02, 7.83000e+00],\n",
              "       [2.14918e+00, 0.00000e+00, 1.95800e+01, ..., 1.47000e+01,\n",
              "        2.61950e+02, 1.57900e+01],\n",
              "       [1.43900e-02, 6.00000e+01, 2.93000e+00, ..., 1.56000e+01,\n",
              "        3.76700e+02, 4.38000e+00]])"
            ]
          },
          "metadata": {
            "tags": []
          },
          "execution_count": 3
        }
      ]
    },
    {
      "cell_type": "code",
      "metadata": {
        "id": "JZZZa-XcHgix",
        "colab_type": "code",
        "colab": {
          "base_uri": "https://localhost:8080/",
          "height": 166
        },
        "outputId": "37813a24-80a2-4e65-c6ca-e6e78dd8b4a8"
      },
      "source": [
        "model = Sequential()\n",
        "model.add(Dense(units = 128, activation = 'tanh', input_dim = 13))\n",
        "model.add(Dense(units = 64, activation = 'sigmoid'))\n",
        "model.add(Dense(units = 1, activation = 'elu'))\n",
        "#model.add(LeakyReLU(alpha = .1))"
      ],
      "execution_count": 4,
      "outputs": [
        {
          "output_type": "stream",
          "text": [
            "WARNING: Logging before flag parsing goes to stderr.\n",
            "W0619 17:41:29.085342 140179757299584 deprecation_wrapper.py:119] From /usr/local/lib/python3.6/dist-packages/keras/backend/tensorflow_backend.py:74: The name tf.get_default_graph is deprecated. Please use tf.compat.v1.get_default_graph instead.\n",
            "\n",
            "W0619 17:41:29.144599 140179757299584 deprecation_wrapper.py:119] From /usr/local/lib/python3.6/dist-packages/keras/backend/tensorflow_backend.py:517: The name tf.placeholder is deprecated. Please use tf.compat.v1.placeholder instead.\n",
            "\n",
            "W0619 17:41:29.153348 140179757299584 deprecation_wrapper.py:119] From /usr/local/lib/python3.6/dist-packages/keras/backend/tensorflow_backend.py:4138: The name tf.random_uniform is deprecated. Please use tf.random.uniform instead.\n",
            "\n"
          ],
          "name": "stderr"
        }
      ]
    },
    {
      "cell_type": "code",
      "metadata": {
        "id": "FnopzOIDKvjT",
        "colab_type": "code",
        "colab": {
          "base_uri": "https://localhost:8080/",
          "height": 74
        },
        "outputId": "750cc4f3-7389-4828-a582-4db7b70ff869"
      },
      "source": [
        "model.compile(loss='mean_squared_error', optimizer = 'adam', metrics = ['mae'])"
      ],
      "execution_count": 5,
      "outputs": [
        {
          "output_type": "stream",
          "text": [
            "W0619 17:41:29.211359 140179757299584 deprecation_wrapper.py:119] From /usr/local/lib/python3.6/dist-packages/keras/optimizers.py:790: The name tf.train.Optimizer is deprecated. Please use tf.compat.v1.train.Optimizer instead.\n",
            "\n"
          ],
          "name": "stderr"
        }
      ]
    },
    {
      "cell_type": "code",
      "metadata": {
        "id": "NO8SpdzrObPk",
        "colab_type": "code",
        "colab": {
          "base_uri": "https://localhost:8080/",
          "height": 256
        },
        "outputId": "f3878697-fa29-4ca7-c413-318e66984f43"
      },
      "source": [
        "from sklearn.preprocessing import StandardScaler\n",
        "scaler = StandardScaler()\n",
        "scaler.fit_transform(train_data)"
      ],
      "execution_count": 6,
      "outputs": [
        {
          "output_type": "execute_result",
          "data": {
            "text/plain": [
              "array([[-0.27224633, -0.48361547, -0.43576161, ...,  1.14850044,\n",
              "         0.44807713,  0.8252202 ],\n",
              "       [-0.40342651,  2.99178419, -1.33391162, ..., -1.71818909,\n",
              "         0.43190599, -1.32920239],\n",
              "       [ 0.1249402 , -0.48361547,  1.0283258 , ...,  0.78447637,\n",
              "         0.22061726, -1.30850006],\n",
              "       ...,\n",
              "       [-0.40202987,  0.99079651, -0.7415148 , ..., -0.71712291,\n",
              "         0.07943894, -0.67776904],\n",
              "       [-0.17292018, -0.48361547,  1.24588095, ..., -1.71818909,\n",
              "        -0.98764362,  0.42083466],\n",
              "       [-0.40422614,  2.04394792, -1.20161456, ..., -1.30866202,\n",
              "         0.23317118, -1.15392266]])"
            ]
          },
          "metadata": {
            "tags": []
          },
          "execution_count": 6
        }
      ]
    },
    {
      "cell_type": "code",
      "metadata": {
        "id": "Vkk20cQ_K-8H",
        "colab_type": "code",
        "colab": {
          "base_uri": "https://localhost:8080/",
          "height": 10212
        },
        "outputId": "e2c16d57-6a66-4bc3-d73d-c2f41b089d08"
      },
      "source": [
        "\n",
        "history = model.fit(train_data, train_targets, epochs = 275)"
      ],
      "execution_count": 7,
      "outputs": [
        {
          "output_type": "stream",
          "text": [
            "W0619 17:41:30.130635 140179757299584 deprecation_wrapper.py:119] From /usr/local/lib/python3.6/dist-packages/keras/backend/tensorflow_backend.py:986: The name tf.assign_add is deprecated. Please use tf.compat.v1.assign_add instead.\n",
            "\n",
            "W0619 17:41:30.239791 140179757299584 deprecation_wrapper.py:119] From /usr/local/lib/python3.6/dist-packages/keras/backend/tensorflow_backend.py:973: The name tf.assign is deprecated. Please use tf.compat.v1.assign instead.\n",
            "\n"
          ],
          "name": "stderr"
        },
        {
          "output_type": "stream",
          "text": [
            "Epoch 1/275\n",
            "404/404 [==============================] - 1s 2ms/step - loss: 544.9718 - mean_absolute_error: 21.4644\n",
            "Epoch 2/275\n",
            "404/404 [==============================] - 0s 56us/step - loss: 432.0028 - mean_absolute_error: 18.7225\n",
            "Epoch 3/275\n",
            "404/404 [==============================] - 0s 57us/step - loss: 372.5984 - mean_absolute_error: 17.0804\n",
            "Epoch 4/275\n",
            "404/404 [==============================] - 0s 53us/step - loss: 342.8145 - mean_absolute_error: 16.1625\n",
            "Epoch 5/275\n",
            "404/404 [==============================] - 0s 57us/step - loss: 322.1356 - mean_absolute_error: 15.4961\n",
            "Epoch 6/275\n",
            "404/404 [==============================] - 0s 53us/step - loss: 305.0408 - mean_absolute_error: 14.9294\n",
            "Epoch 7/275\n",
            "404/404 [==============================] - 0s 57us/step - loss: 289.7061 - mean_absolute_error: 14.4079\n",
            "Epoch 8/275\n",
            "404/404 [==============================] - 0s 54us/step - loss: 275.6997 - mean_absolute_error: 13.9205\n",
            "Epoch 9/275\n",
            "404/404 [==============================] - 0s 56us/step - loss: 262.5220 - mean_absolute_error: 13.4677\n",
            "Epoch 10/275\n",
            "404/404 [==============================] - 0s 58us/step - loss: 250.5152 - mean_absolute_error: 13.0341\n",
            "Epoch 11/275\n",
            "404/404 [==============================] - 0s 53us/step - loss: 239.0127 - mean_absolute_error: 12.6112\n",
            "Epoch 12/275\n",
            "404/404 [==============================] - 0s 57us/step - loss: 228.1507 - mean_absolute_error: 12.2082\n",
            "Epoch 13/275\n",
            "404/404 [==============================] - 0s 67us/step - loss: 218.1668 - mean_absolute_error: 11.8148\n",
            "Epoch 14/275\n",
            "404/404 [==============================] - 0s 61us/step - loss: 208.5723 - mean_absolute_error: 11.4444\n",
            "Epoch 15/275\n",
            "404/404 [==============================] - 0s 67us/step - loss: 199.6480 - mean_absolute_error: 11.0835\n",
            "Epoch 16/275\n",
            "404/404 [==============================] - 0s 62us/step - loss: 191.2525 - mean_absolute_error: 10.7462\n",
            "Epoch 17/275\n",
            "404/404 [==============================] - 0s 72us/step - loss: 183.2229 - mean_absolute_error: 10.4164\n",
            "Epoch 18/275\n",
            "404/404 [==============================] - 0s 56us/step - loss: 175.4867 - mean_absolute_error: 10.0912\n",
            "Epoch 19/275\n",
            "404/404 [==============================] - 0s 52us/step - loss: 167.7935 - mean_absolute_error: 9.7673\n",
            "Epoch 20/275\n",
            "404/404 [==============================] - 0s 54us/step - loss: 160.1335 - mean_absolute_error: 9.4448\n",
            "Epoch 21/275\n",
            "404/404 [==============================] - 0s 56us/step - loss: 153.2276 - mean_absolute_error: 9.1636\n",
            "Epoch 22/275\n",
            "404/404 [==============================] - 0s 52us/step - loss: 147.0591 - mean_absolute_error: 8.8950\n",
            "Epoch 23/275\n",
            "404/404 [==============================] - 0s 67us/step - loss: 141.1964 - mean_absolute_error: 8.6591\n",
            "Epoch 24/275\n",
            "404/404 [==============================] - 0s 57us/step - loss: 135.8756 - mean_absolute_error: 8.4354\n",
            "Epoch 25/275\n",
            "404/404 [==============================] - 0s 57us/step - loss: 131.0474 - mean_absolute_error: 8.2365\n",
            "Epoch 26/275\n",
            "404/404 [==============================] - 0s 61us/step - loss: 126.6641 - mean_absolute_error: 8.0505\n",
            "Epoch 27/275\n",
            "404/404 [==============================] - 0s 64us/step - loss: 122.5676 - mean_absolute_error: 7.8717\n",
            "Epoch 28/275\n",
            "404/404 [==============================] - 0s 66us/step - loss: 118.9404 - mean_absolute_error: 7.7123\n",
            "Epoch 29/275\n",
            "404/404 [==============================] - 0s 56us/step - loss: 115.4272 - mean_absolute_error: 7.5594\n",
            "Epoch 30/275\n",
            "404/404 [==============================] - 0s 55us/step - loss: 112.2358 - mean_absolute_error: 7.4157\n",
            "Epoch 31/275\n",
            "404/404 [==============================] - 0s 55us/step - loss: 109.4058 - mean_absolute_error: 7.2838\n",
            "Epoch 32/275\n",
            "404/404 [==============================] - 0s 56us/step - loss: 106.5168 - mean_absolute_error: 7.1566\n",
            "Epoch 33/275\n",
            "404/404 [==============================] - 0s 68us/step - loss: 104.1782 - mean_absolute_error: 7.0485\n",
            "Epoch 34/275\n",
            "404/404 [==============================] - 0s 55us/step - loss: 101.5783 - mean_absolute_error: 6.9297\n",
            "Epoch 35/275\n",
            "404/404 [==============================] - 0s 70us/step - loss: 99.2883 - mean_absolute_error: 6.8115\n",
            "Epoch 36/275\n",
            "404/404 [==============================] - 0s 62us/step - loss: 96.9126 - mean_absolute_error: 6.6801\n",
            "Epoch 37/275\n",
            "404/404 [==============================] - 0s 53us/step - loss: 94.6669 - mean_absolute_error: 6.5548\n",
            "Epoch 38/275\n",
            "404/404 [==============================] - 0s 51us/step - loss: 92.5931 - mean_absolute_error: 6.4215\n",
            "Epoch 39/275\n",
            "404/404 [==============================] - 0s 57us/step - loss: 90.6676 - mean_absolute_error: 6.3155\n",
            "Epoch 40/275\n",
            "404/404 [==============================] - 0s 61us/step - loss: 88.9319 - mean_absolute_error: 6.2031\n",
            "Epoch 41/275\n",
            "404/404 [==============================] - 0s 63us/step - loss: 87.3634 - mean_absolute_error: 6.1397\n",
            "Epoch 42/275\n",
            "404/404 [==============================] - 0s 57us/step - loss: 85.8570 - mean_absolute_error: 6.0566\n",
            "Epoch 43/275\n",
            "404/404 [==============================] - 0s 53us/step - loss: 84.4090 - mean_absolute_error: 5.9944\n",
            "Epoch 44/275\n",
            "404/404 [==============================] - 0s 66us/step - loss: 83.2331 - mean_absolute_error: 5.9450\n",
            "Epoch 45/275\n",
            "404/404 [==============================] - 0s 50us/step - loss: 81.8713 - mean_absolute_error: 5.9033\n",
            "Epoch 46/275\n",
            "404/404 [==============================] - 0s 56us/step - loss: 80.7608 - mean_absolute_error: 5.8632\n",
            "Epoch 47/275\n",
            "404/404 [==============================] - 0s 56us/step - loss: 79.7710 - mean_absolute_error: 5.8346\n",
            "Epoch 48/275\n",
            "404/404 [==============================] - 0s 53us/step - loss: 78.7348 - mean_absolute_error: 5.7908\n",
            "Epoch 49/275\n",
            "404/404 [==============================] - 0s 69us/step - loss: 77.7962 - mean_absolute_error: 5.7575\n",
            "Epoch 50/275\n",
            "404/404 [==============================] - 0s 62us/step - loss: 77.0163 - mean_absolute_error: 5.6996\n",
            "Epoch 51/275\n",
            "404/404 [==============================] - 0s 62us/step - loss: 76.2370 - mean_absolute_error: 5.6872\n",
            "Epoch 52/275\n",
            "404/404 [==============================] - 0s 74us/step - loss: 75.5004 - mean_absolute_error: 5.6673\n",
            "Epoch 53/275\n",
            "404/404 [==============================] - 0s 54us/step - loss: 74.9714 - mean_absolute_error: 5.6541\n",
            "Epoch 54/275\n",
            "404/404 [==============================] - 0s 59us/step - loss: 74.1178 - mean_absolute_error: 5.6298\n",
            "Epoch 55/275\n",
            "404/404 [==============================] - 0s 54us/step - loss: 73.7748 - mean_absolute_error: 5.6430\n",
            "Epoch 56/275\n",
            "404/404 [==============================] - 0s 53us/step - loss: 73.1282 - mean_absolute_error: 5.6079\n",
            "Epoch 57/275\n",
            "404/404 [==============================] - 0s 50us/step - loss: 72.2887 - mean_absolute_error: 5.5465\n",
            "Epoch 58/275\n",
            "404/404 [==============================] - 0s 46us/step - loss: 71.6237 - mean_absolute_error: 5.5206\n",
            "Epoch 59/275\n",
            "404/404 [==============================] - 0s 67us/step - loss: 71.2701 - mean_absolute_error: 5.4440\n",
            "Epoch 60/275\n",
            "404/404 [==============================] - 0s 66us/step - loss: 70.5193 - mean_absolute_error: 5.4274\n",
            "Epoch 61/275\n",
            "404/404 [==============================] - 0s 60us/step - loss: 70.0312 - mean_absolute_error: 5.4181\n",
            "Epoch 62/275\n",
            "404/404 [==============================] - 0s 73us/step - loss: 69.4449 - mean_absolute_error: 5.4088\n",
            "Epoch 63/275\n",
            "404/404 [==============================] - 0s 62us/step - loss: 68.6843 - mean_absolute_error: 5.3500\n",
            "Epoch 64/275\n",
            "404/404 [==============================] - 0s 55us/step - loss: 68.3632 - mean_absolute_error: 5.2888\n",
            "Epoch 65/275\n",
            "404/404 [==============================] - 0s 57us/step - loss: 68.0068 - mean_absolute_error: 5.3120\n",
            "Epoch 66/275\n",
            "404/404 [==============================] - 0s 58us/step - loss: 67.2960 - mean_absolute_error: 5.3216\n",
            "Epoch 67/275\n",
            "404/404 [==============================] - 0s 53us/step - loss: 67.0617 - mean_absolute_error: 5.3021\n",
            "Epoch 68/275\n",
            "404/404 [==============================] - 0s 54us/step - loss: 66.4733 - mean_absolute_error: 5.2193\n",
            "Epoch 69/275\n",
            "404/404 [==============================] - 0s 53us/step - loss: 66.1268 - mean_absolute_error: 5.3528\n",
            "Epoch 70/275\n",
            "404/404 [==============================] - 0s 59us/step - loss: 65.4515 - mean_absolute_error: 5.2484\n",
            "Epoch 71/275\n",
            "404/404 [==============================] - 0s 55us/step - loss: 64.7253 - mean_absolute_error: 5.2160\n",
            "Epoch 72/275\n",
            "404/404 [==============================] - 0s 49us/step - loss: 64.3030 - mean_absolute_error: 5.1692\n",
            "Epoch 73/275\n",
            "404/404 [==============================] - 0s 55us/step - loss: 64.1386 - mean_absolute_error: 5.2053\n",
            "Epoch 74/275\n",
            "404/404 [==============================] - 0s 55us/step - loss: 63.7758 - mean_absolute_error: 5.1356\n",
            "Epoch 75/275\n",
            "404/404 [==============================] - 0s 54us/step - loss: 63.5324 - mean_absolute_error: 5.1897\n",
            "Epoch 76/275\n",
            "404/404 [==============================] - 0s 53us/step - loss: 62.8740 - mean_absolute_error: 5.1566\n",
            "Epoch 77/275\n",
            "404/404 [==============================] - 0s 52us/step - loss: 62.0274 - mean_absolute_error: 5.1637\n",
            "Epoch 78/275\n",
            "404/404 [==============================] - 0s 51us/step - loss: 61.5846 - mean_absolute_error: 5.0955\n",
            "Epoch 79/275\n",
            "404/404 [==============================] - 0s 53us/step - loss: 61.0846 - mean_absolute_error: 5.0654\n",
            "Epoch 80/275\n",
            "404/404 [==============================] - 0s 60us/step - loss: 60.3979 - mean_absolute_error: 5.0724\n",
            "Epoch 81/275\n",
            "404/404 [==============================] - 0s 54us/step - loss: 60.4110 - mean_absolute_error: 5.0358\n",
            "Epoch 82/275\n",
            "404/404 [==============================] - 0s 54us/step - loss: 58.9847 - mean_absolute_error: 5.0368\n",
            "Epoch 83/275\n",
            "404/404 [==============================] - 0s 51us/step - loss: 59.5338 - mean_absolute_error: 4.9696\n",
            "Epoch 84/275\n",
            "404/404 [==============================] - 0s 54us/step - loss: 58.2965 - mean_absolute_error: 5.0356\n",
            "Epoch 85/275\n",
            "404/404 [==============================] - 0s 52us/step - loss: 56.8758 - mean_absolute_error: 4.8505\n",
            "Epoch 86/275\n",
            "404/404 [==============================] - 0s 48us/step - loss: 57.1459 - mean_absolute_error: 4.8948\n",
            "Epoch 87/275\n",
            "404/404 [==============================] - 0s 47us/step - loss: 56.5801 - mean_absolute_error: 4.8772\n",
            "Epoch 88/275\n",
            "404/404 [==============================] - 0s 54us/step - loss: 55.8691 - mean_absolute_error: 4.8640\n",
            "Epoch 89/275\n",
            "404/404 [==============================] - 0s 56us/step - loss: 57.1924 - mean_absolute_error: 5.0455\n",
            "Epoch 90/275\n",
            "404/404 [==============================] - 0s 54us/step - loss: 55.3890 - mean_absolute_error: 4.8019\n",
            "Epoch 91/275\n",
            "404/404 [==============================] - 0s 54us/step - loss: 53.9494 - mean_absolute_error: 4.7383\n",
            "Epoch 92/275\n",
            "404/404 [==============================] - 0s 57us/step - loss: 53.8213 - mean_absolute_error: 4.8136\n",
            "Epoch 93/275\n",
            "404/404 [==============================] - 0s 55us/step - loss: 53.9089 - mean_absolute_error: 4.7347\n",
            "Epoch 94/275\n",
            "404/404 [==============================] - 0s 53us/step - loss: 53.5630 - mean_absolute_error: 4.9407\n",
            "Epoch 95/275\n",
            "404/404 [==============================] - 0s 52us/step - loss: 53.5655 - mean_absolute_error: 4.8050\n",
            "Epoch 96/275\n",
            "404/404 [==============================] - 0s 51us/step - loss: 52.2912 - mean_absolute_error: 4.7391\n",
            "Epoch 97/275\n",
            "404/404 [==============================] - 0s 65us/step - loss: 51.4623 - mean_absolute_error: 4.7249\n",
            "Epoch 98/275\n",
            "404/404 [==============================] - 0s 56us/step - loss: 50.8660 - mean_absolute_error: 4.7107\n",
            "Epoch 99/275\n",
            "404/404 [==============================] - 0s 72us/step - loss: 50.4114 - mean_absolute_error: 4.6832\n",
            "Epoch 100/275\n",
            "404/404 [==============================] - 0s 84us/step - loss: 50.2214 - mean_absolute_error: 4.6936\n",
            "Epoch 101/275\n",
            "404/404 [==============================] - 0s 54us/step - loss: 48.8368 - mean_absolute_error: 4.6040\n",
            "Epoch 102/275\n",
            "404/404 [==============================] - 0s 51us/step - loss: 48.8955 - mean_absolute_error: 4.5858\n",
            "Epoch 103/275\n",
            "404/404 [==============================] - 0s 52us/step - loss: 48.3670 - mean_absolute_error: 4.5531\n",
            "Epoch 104/275\n",
            "404/404 [==============================] - 0s 55us/step - loss: 47.8181 - mean_absolute_error: 4.5326\n",
            "Epoch 105/275\n",
            "404/404 [==============================] - 0s 53us/step - loss: 47.6522 - mean_absolute_error: 4.6974\n",
            "Epoch 106/275\n",
            "404/404 [==============================] - 0s 55us/step - loss: 46.8418 - mean_absolute_error: 4.4876\n",
            "Epoch 107/275\n",
            "404/404 [==============================] - 0s 56us/step - loss: 46.8590 - mean_absolute_error: 4.5460\n",
            "Epoch 108/275\n",
            "404/404 [==============================] - 0s 64us/step - loss: 46.3189 - mean_absolute_error: 4.5674\n",
            "Epoch 109/275\n",
            "404/404 [==============================] - 0s 53us/step - loss: 45.7593 - mean_absolute_error: 4.4673\n",
            "Epoch 110/275\n",
            "404/404 [==============================] - 0s 51us/step - loss: 45.4375 - mean_absolute_error: 4.4460\n",
            "Epoch 111/275\n",
            "404/404 [==============================] - 0s 55us/step - loss: 47.2160 - mean_absolute_error: 4.5702\n",
            "Epoch 112/275\n",
            "404/404 [==============================] - 0s 56us/step - loss: 45.2574 - mean_absolute_error: 4.5262\n",
            "Epoch 113/275\n",
            "404/404 [==============================] - 0s 53us/step - loss: 43.7659 - mean_absolute_error: 4.4096\n",
            "Epoch 114/275\n",
            "404/404 [==============================] - 0s 55us/step - loss: 44.2269 - mean_absolute_error: 4.3902\n",
            "Epoch 115/275\n",
            "404/404 [==============================] - 0s 55us/step - loss: 42.9133 - mean_absolute_error: 4.2864\n",
            "Epoch 116/275\n",
            "404/404 [==============================] - 0s 55us/step - loss: 42.7004 - mean_absolute_error: 4.2907\n",
            "Epoch 117/275\n",
            "404/404 [==============================] - 0s 60us/step - loss: 41.8558 - mean_absolute_error: 4.2424\n",
            "Epoch 118/275\n",
            "404/404 [==============================] - 0s 53us/step - loss: 41.5227 - mean_absolute_error: 4.2539\n",
            "Epoch 119/275\n",
            "404/404 [==============================] - 0s 69us/step - loss: 40.3282 - mean_absolute_error: 4.1491\n",
            "Epoch 120/275\n",
            "404/404 [==============================] - 0s 56us/step - loss: 39.8458 - mean_absolute_error: 4.1083\n",
            "Epoch 121/275\n",
            "404/404 [==============================] - 0s 56us/step - loss: 40.1001 - mean_absolute_error: 4.2038\n",
            "Epoch 122/275\n",
            "404/404 [==============================] - 0s 53us/step - loss: 39.3029 - mean_absolute_error: 4.1319\n",
            "Epoch 123/275\n",
            "404/404 [==============================] - 0s 51us/step - loss: 38.2811 - mean_absolute_error: 4.0554\n",
            "Epoch 124/275\n",
            "404/404 [==============================] - 0s 54us/step - loss: 38.1998 - mean_absolute_error: 4.0121\n",
            "Epoch 125/275\n",
            "404/404 [==============================] - 0s 54us/step - loss: 37.9936 - mean_absolute_error: 4.0604\n",
            "Epoch 126/275\n",
            "404/404 [==============================] - 0s 62us/step - loss: 37.7644 - mean_absolute_error: 3.9297\n",
            "Epoch 127/275\n",
            "404/404 [==============================] - 0s 73us/step - loss: 37.3630 - mean_absolute_error: 4.0257\n",
            "Epoch 128/275\n",
            "404/404 [==============================] - 0s 61us/step - loss: 36.2835 - mean_absolute_error: 3.9268\n",
            "Epoch 129/275\n",
            "404/404 [==============================] - 0s 59us/step - loss: 35.4901 - mean_absolute_error: 3.8676\n",
            "Epoch 130/275\n",
            "404/404 [==============================] - 0s 54us/step - loss: 35.0070 - mean_absolute_error: 3.8255\n",
            "Epoch 131/275\n",
            "404/404 [==============================] - 0s 54us/step - loss: 35.5835 - mean_absolute_error: 3.8787\n",
            "Epoch 132/275\n",
            "404/404 [==============================] - 0s 59us/step - loss: 36.4305 - mean_absolute_error: 4.0722\n",
            "Epoch 133/275\n",
            "404/404 [==============================] - 0s 54us/step - loss: 35.1903 - mean_absolute_error: 3.8231\n",
            "Epoch 134/275\n",
            "404/404 [==============================] - 0s 55us/step - loss: 35.1435 - mean_absolute_error: 3.9245\n",
            "Epoch 135/275\n",
            "404/404 [==============================] - 0s 53us/step - loss: 35.2153 - mean_absolute_error: 3.8834\n",
            "Epoch 136/275\n",
            "404/404 [==============================] - 0s 71us/step - loss: 32.9738 - mean_absolute_error: 3.8530\n",
            "Epoch 137/275\n",
            "404/404 [==============================] - 0s 59us/step - loss: 32.3467 - mean_absolute_error: 3.7177\n",
            "Epoch 138/275\n",
            "404/404 [==============================] - 0s 55us/step - loss: 32.5994 - mean_absolute_error: 3.8047\n",
            "Epoch 139/275\n",
            "404/404 [==============================] - 0s 54us/step - loss: 31.2994 - mean_absolute_error: 3.6399\n",
            "Epoch 140/275\n",
            "404/404 [==============================] - 0s 57us/step - loss: 30.4662 - mean_absolute_error: 3.5953\n",
            "Epoch 141/275\n",
            "404/404 [==============================] - 0s 51us/step - loss: 30.1928 - mean_absolute_error: 3.5746\n",
            "Epoch 142/275\n",
            "404/404 [==============================] - 0s 47us/step - loss: 29.7353 - mean_absolute_error: 3.5667\n",
            "Epoch 143/275\n",
            "404/404 [==============================] - 0s 57us/step - loss: 30.1001 - mean_absolute_error: 3.6254\n",
            "Epoch 144/275\n",
            "404/404 [==============================] - 0s 62us/step - loss: 29.5033 - mean_absolute_error: 3.5982\n",
            "Epoch 145/275\n",
            "404/404 [==============================] - 0s 63us/step - loss: 28.6961 - mean_absolute_error: 3.5358\n",
            "Epoch 146/275\n",
            "404/404 [==============================] - 0s 58us/step - loss: 28.0896 - mean_absolute_error: 3.4653\n",
            "Epoch 147/275\n",
            "404/404 [==============================] - 0s 54us/step - loss: 27.8039 - mean_absolute_error: 3.4998\n",
            "Epoch 148/275\n",
            "404/404 [==============================] - 0s 49us/step - loss: 27.7281 - mean_absolute_error: 3.4763\n",
            "Epoch 149/275\n",
            "404/404 [==============================] - 0s 61us/step - loss: 27.1812 - mean_absolute_error: 3.4141\n",
            "Epoch 150/275\n",
            "404/404 [==============================] - 0s 56us/step - loss: 27.0542 - mean_absolute_error: 3.4115\n",
            "Epoch 151/275\n",
            "404/404 [==============================] - 0s 61us/step - loss: 26.4282 - mean_absolute_error: 3.4322\n",
            "Epoch 152/275\n",
            "404/404 [==============================] - 0s 53us/step - loss: 27.9741 - mean_absolute_error: 3.5807\n",
            "Epoch 153/275\n",
            "404/404 [==============================] - 0s 61us/step - loss: 27.0379 - mean_absolute_error: 3.5569\n",
            "Epoch 154/275\n",
            "404/404 [==============================] - 0s 64us/step - loss: 26.2212 - mean_absolute_error: 3.3875\n",
            "Epoch 155/275\n",
            "404/404 [==============================] - 0s 66us/step - loss: 25.7204 - mean_absolute_error: 3.3675\n",
            "Epoch 156/275\n",
            "404/404 [==============================] - 0s 65us/step - loss: 25.4198 - mean_absolute_error: 3.3430\n",
            "Epoch 157/275\n",
            "404/404 [==============================] - 0s 59us/step - loss: 25.3221 - mean_absolute_error: 3.4218\n",
            "Epoch 158/275\n",
            "404/404 [==============================] - 0s 53us/step - loss: 24.6199 - mean_absolute_error: 3.3179\n",
            "Epoch 159/275\n",
            "404/404 [==============================] - 0s 52us/step - loss: 24.7616 - mean_absolute_error: 3.2945\n",
            "Epoch 160/275\n",
            "404/404 [==============================] - 0s 54us/step - loss: 24.2794 - mean_absolute_error: 3.3574\n",
            "Epoch 161/275\n",
            "404/404 [==============================] - 0s 52us/step - loss: 28.7412 - mean_absolute_error: 3.6893\n",
            "Epoch 162/275\n",
            "404/404 [==============================] - 0s 58us/step - loss: 25.1032 - mean_absolute_error: 3.4182\n",
            "Epoch 163/275\n",
            "404/404 [==============================] - 0s 58us/step - loss: 25.0412 - mean_absolute_error: 3.4090\n",
            "Epoch 164/275\n",
            "404/404 [==============================] - 0s 56us/step - loss: 25.0269 - mean_absolute_error: 3.4593\n",
            "Epoch 165/275\n",
            "404/404 [==============================] - 0s 53us/step - loss: 25.4837 - mean_absolute_error: 3.4742\n",
            "Epoch 166/275\n",
            "404/404 [==============================] - 0s 56us/step - loss: 23.9997 - mean_absolute_error: 3.3630\n",
            "Epoch 167/275\n",
            "404/404 [==============================] - 0s 59us/step - loss: 23.3966 - mean_absolute_error: 3.2968\n",
            "Epoch 168/275\n",
            "404/404 [==============================] - 0s 51us/step - loss: 23.4172 - mean_absolute_error: 3.3125\n",
            "Epoch 169/275\n",
            "404/404 [==============================] - 0s 57us/step - loss: 23.8438 - mean_absolute_error: 3.3454\n",
            "Epoch 170/275\n",
            "404/404 [==============================] - 0s 68us/step - loss: 22.5396 - mean_absolute_error: 3.2276\n",
            "Epoch 171/275\n",
            "404/404 [==============================] - 0s 58us/step - loss: 22.0267 - mean_absolute_error: 3.2256\n",
            "Epoch 172/275\n",
            "404/404 [==============================] - 0s 55us/step - loss: 24.6140 - mean_absolute_error: 3.4287\n",
            "Epoch 173/275\n",
            "404/404 [==============================] - 0s 65us/step - loss: 25.1947 - mean_absolute_error: 3.3930\n",
            "Epoch 174/275\n",
            "404/404 [==============================] - 0s 60us/step - loss: 22.0451 - mean_absolute_error: 3.2313\n",
            "Epoch 175/275\n",
            "404/404 [==============================] - 0s 58us/step - loss: 22.4479 - mean_absolute_error: 3.2882\n",
            "Epoch 176/275\n",
            "404/404 [==============================] - 0s 50us/step - loss: 21.6352 - mean_absolute_error: 3.2319\n",
            "Epoch 177/275\n",
            "404/404 [==============================] - 0s 78us/step - loss: 22.0044 - mean_absolute_error: 3.2183\n",
            "Epoch 178/275\n",
            "404/404 [==============================] - 0s 57us/step - loss: 21.1855 - mean_absolute_error: 3.1816\n",
            "Epoch 179/275\n",
            "404/404 [==============================] - 0s 51us/step - loss: 21.2252 - mean_absolute_error: 3.1573\n",
            "Epoch 180/275\n",
            "404/404 [==============================] - 0s 52us/step - loss: 20.9378 - mean_absolute_error: 3.1424\n",
            "Epoch 181/275\n",
            "404/404 [==============================] - 0s 57us/step - loss: 23.1022 - mean_absolute_error: 3.2777\n",
            "Epoch 182/275\n",
            "404/404 [==============================] - 0s 53us/step - loss: 21.4777 - mean_absolute_error: 3.2728\n",
            "Epoch 183/275\n",
            "404/404 [==============================] - 0s 52us/step - loss: 21.4572 - mean_absolute_error: 3.2651\n",
            "Epoch 184/275\n",
            "404/404 [==============================] - 0s 55us/step - loss: 20.7615 - mean_absolute_error: 3.2033\n",
            "Epoch 185/275\n",
            "404/404 [==============================] - 0s 52us/step - loss: 20.9181 - mean_absolute_error: 3.2093\n",
            "Epoch 186/275\n",
            "404/404 [==============================] - 0s 49us/step - loss: 21.1555 - mean_absolute_error: 3.2599\n",
            "Epoch 187/275\n",
            "404/404 [==============================] - 0s 49us/step - loss: 20.5626 - mean_absolute_error: 3.2053\n",
            "Epoch 188/275\n",
            "404/404 [==============================] - 0s 51us/step - loss: 19.8931 - mean_absolute_error: 3.1164\n",
            "Epoch 189/275\n",
            "404/404 [==============================] - 0s 51us/step - loss: 19.9640 - mean_absolute_error: 3.1275\n",
            "Epoch 190/275\n",
            "404/404 [==============================] - 0s 45us/step - loss: 20.4225 - mean_absolute_error: 3.1877\n",
            "Epoch 191/275\n",
            "404/404 [==============================] - 0s 53us/step - loss: 20.4978 - mean_absolute_error: 3.2116\n",
            "Epoch 192/275\n",
            "404/404 [==============================] - 0s 49us/step - loss: 20.8347 - mean_absolute_error: 3.2668\n",
            "Epoch 193/275\n",
            "404/404 [==============================] - 0s 57us/step - loss: 21.1285 - mean_absolute_error: 3.2596\n",
            "Epoch 194/275\n",
            "404/404 [==============================] - 0s 51us/step - loss: 19.9350 - mean_absolute_error: 3.1730\n",
            "Epoch 195/275\n",
            "404/404 [==============================] - 0s 55us/step - loss: 21.4289 - mean_absolute_error: 3.3743\n",
            "Epoch 196/275\n",
            "404/404 [==============================] - 0s 67us/step - loss: 25.3816 - mean_absolute_error: 3.5290\n",
            "Epoch 197/275\n",
            "404/404 [==============================] - 0s 63us/step - loss: 24.0437 - mean_absolute_error: 3.4057\n",
            "Epoch 198/275\n",
            "404/404 [==============================] - 0s 55us/step - loss: 20.1043 - mean_absolute_error: 3.1474\n",
            "Epoch 199/275\n",
            "404/404 [==============================] - 0s 59us/step - loss: 19.6938 - mean_absolute_error: 3.2032\n",
            "Epoch 200/275\n",
            "404/404 [==============================] - 0s 53us/step - loss: 18.9748 - mean_absolute_error: 3.1171\n",
            "Epoch 201/275\n",
            "404/404 [==============================] - 0s 57us/step - loss: 18.6317 - mean_absolute_error: 3.0580\n",
            "Epoch 202/275\n",
            "404/404 [==============================] - 0s 51us/step - loss: 18.7111 - mean_absolute_error: 3.0735\n",
            "Epoch 203/275\n",
            "404/404 [==============================] - 0s 54us/step - loss: 19.0883 - mean_absolute_error: 3.0917\n",
            "Epoch 204/275\n",
            "404/404 [==============================] - 0s 78us/step - loss: 20.6618 - mean_absolute_error: 3.2661\n",
            "Epoch 205/275\n",
            "404/404 [==============================] - 0s 53us/step - loss: 18.7126 - mean_absolute_error: 3.1130\n",
            "Epoch 206/275\n",
            "404/404 [==============================] - 0s 53us/step - loss: 18.8179 - mean_absolute_error: 3.0976\n",
            "Epoch 207/275\n",
            "404/404 [==============================] - 0s 60us/step - loss: 18.1847 - mean_absolute_error: 3.0730\n",
            "Epoch 208/275\n",
            "404/404 [==============================] - 0s 61us/step - loss: 18.3037 - mean_absolute_error: 3.0581\n",
            "Epoch 209/275\n",
            "404/404 [==============================] - 0s 49us/step - loss: 19.5940 - mean_absolute_error: 3.1462\n",
            "Epoch 210/275\n",
            "404/404 [==============================] - 0s 56us/step - loss: 19.8834 - mean_absolute_error: 3.1434\n",
            "Epoch 211/275\n",
            "404/404 [==============================] - 0s 47us/step - loss: 19.8144 - mean_absolute_error: 3.3075\n",
            "Epoch 212/275\n",
            "404/404 [==============================] - 0s 55us/step - loss: 17.7996 - mean_absolute_error: 2.9856\n",
            "Epoch 213/275\n",
            "404/404 [==============================] - 0s 50us/step - loss: 18.5962 - mean_absolute_error: 3.0565\n",
            "Epoch 214/275\n",
            "404/404 [==============================] - 0s 55us/step - loss: 20.0595 - mean_absolute_error: 3.2398\n",
            "Epoch 215/275\n",
            "404/404 [==============================] - 0s 55us/step - loss: 17.8031 - mean_absolute_error: 3.0470\n",
            "Epoch 216/275\n",
            "404/404 [==============================] - 0s 50us/step - loss: 17.1596 - mean_absolute_error: 2.9856\n",
            "Epoch 217/275\n",
            "404/404 [==============================] - 0s 55us/step - loss: 17.2413 - mean_absolute_error: 2.9504\n",
            "Epoch 218/275\n",
            "404/404 [==============================] - 0s 53us/step - loss: 16.9714 - mean_absolute_error: 2.9556\n",
            "Epoch 219/275\n",
            "404/404 [==============================] - 0s 52us/step - loss: 17.1744 - mean_absolute_error: 3.0192\n",
            "Epoch 220/275\n",
            "404/404 [==============================] - 0s 54us/step - loss: 17.7659 - mean_absolute_error: 3.0208\n",
            "Epoch 221/275\n",
            "404/404 [==============================] - 0s 56us/step - loss: 17.0708 - mean_absolute_error: 2.9681\n",
            "Epoch 222/275\n",
            "404/404 [==============================] - 0s 55us/step - loss: 16.5577 - mean_absolute_error: 2.9083\n",
            "Epoch 223/275\n",
            "404/404 [==============================] - 0s 56us/step - loss: 16.3349 - mean_absolute_error: 2.9143\n",
            "Epoch 224/275\n",
            "404/404 [==============================] - 0s 52us/step - loss: 16.3955 - mean_absolute_error: 2.9325\n",
            "Epoch 225/275\n",
            "404/404 [==============================] - 0s 51us/step - loss: 16.4066 - mean_absolute_error: 2.9136\n",
            "Epoch 226/275\n",
            "404/404 [==============================] - 0s 58us/step - loss: 16.5696 - mean_absolute_error: 2.9694\n",
            "Epoch 227/275\n",
            "404/404 [==============================] - 0s 51us/step - loss: 16.2003 - mean_absolute_error: 2.9073\n",
            "Epoch 228/275\n",
            "404/404 [==============================] - 0s 54us/step - loss: 17.4468 - mean_absolute_error: 3.0157\n",
            "Epoch 229/275\n",
            "404/404 [==============================] - 0s 52us/step - loss: 16.9049 - mean_absolute_error: 2.9825\n",
            "Epoch 230/275\n",
            "404/404 [==============================] - 0s 50us/step - loss: 16.6831 - mean_absolute_error: 2.9363\n",
            "Epoch 231/275\n",
            "404/404 [==============================] - 0s 53us/step - loss: 16.2682 - mean_absolute_error: 2.9344\n",
            "Epoch 232/275\n",
            "404/404 [==============================] - 0s 50us/step - loss: 16.1075 - mean_absolute_error: 2.9089\n",
            "Epoch 233/275\n",
            "404/404 [==============================] - 0s 48us/step - loss: 15.7711 - mean_absolute_error: 2.8553\n",
            "Epoch 234/275\n",
            "404/404 [==============================] - 0s 48us/step - loss: 15.6525 - mean_absolute_error: 2.8598\n",
            "Epoch 235/275\n",
            "404/404 [==============================] - 0s 69us/step - loss: 15.9275 - mean_absolute_error: 2.8762\n",
            "Epoch 236/275\n",
            "404/404 [==============================] - 0s 50us/step - loss: 17.4033 - mean_absolute_error: 2.9895\n",
            "Epoch 237/275\n",
            "404/404 [==============================] - 0s 60us/step - loss: 15.2882 - mean_absolute_error: 2.8527\n",
            "Epoch 238/275\n",
            "404/404 [==============================] - 0s 53us/step - loss: 16.6564 - mean_absolute_error: 2.9375\n",
            "Epoch 239/275\n",
            "404/404 [==============================] - 0s 55us/step - loss: 16.3065 - mean_absolute_error: 2.9466\n",
            "Epoch 240/275\n",
            "404/404 [==============================] - 0s 53us/step - loss: 17.1064 - mean_absolute_error: 2.9808\n",
            "Epoch 241/275\n",
            "404/404 [==============================] - 0s 50us/step - loss: 15.6920 - mean_absolute_error: 2.8793\n",
            "Epoch 242/275\n",
            "404/404 [==============================] - 0s 54us/step - loss: 15.6301 - mean_absolute_error: 2.8978\n",
            "Epoch 243/275\n",
            "404/404 [==============================] - 0s 55us/step - loss: 15.5943 - mean_absolute_error: 2.8574\n",
            "Epoch 244/275\n",
            "404/404 [==============================] - 0s 54us/step - loss: 15.1940 - mean_absolute_error: 2.8815\n",
            "Epoch 245/275\n",
            "404/404 [==============================] - 0s 54us/step - loss: 15.1920 - mean_absolute_error: 2.8430\n",
            "Epoch 246/275\n",
            "404/404 [==============================] - 0s 48us/step - loss: 14.8712 - mean_absolute_error: 2.8139\n",
            "Epoch 247/275\n",
            "404/404 [==============================] - 0s 53us/step - loss: 15.4293 - mean_absolute_error: 2.8723\n",
            "Epoch 248/275\n",
            "404/404 [==============================] - 0s 51us/step - loss: 14.8084 - mean_absolute_error: 2.8098\n",
            "Epoch 249/275\n",
            "404/404 [==============================] - 0s 52us/step - loss: 15.6051 - mean_absolute_error: 2.8488\n",
            "Epoch 250/275\n",
            "404/404 [==============================] - 0s 51us/step - loss: 14.7048 - mean_absolute_error: 2.7814\n",
            "Epoch 251/275\n",
            "404/404 [==============================] - 0s 54us/step - loss: 14.7140 - mean_absolute_error: 2.8000\n",
            "Epoch 252/275\n",
            "404/404 [==============================] - 0s 55us/step - loss: 14.5455 - mean_absolute_error: 2.7746\n",
            "Epoch 253/275\n",
            "404/404 [==============================] - 0s 52us/step - loss: 14.2345 - mean_absolute_error: 2.7788\n",
            "Epoch 254/275\n",
            "404/404 [==============================] - 0s 56us/step - loss: 14.2550 - mean_absolute_error: 2.7452\n",
            "Epoch 255/275\n",
            "404/404 [==============================] - 0s 51us/step - loss: 15.5233 - mean_absolute_error: 2.8556\n",
            "Epoch 256/275\n",
            "404/404 [==============================] - 0s 58us/step - loss: 15.5794 - mean_absolute_error: 2.8802\n",
            "Epoch 257/275\n",
            "404/404 [==============================] - 0s 54us/step - loss: 14.9958 - mean_absolute_error: 2.8660\n",
            "Epoch 258/275\n",
            "404/404 [==============================] - 0s 54us/step - loss: 15.8239 - mean_absolute_error: 2.9363\n",
            "Epoch 259/275\n",
            "404/404 [==============================] - 0s 55us/step - loss: 19.6382 - mean_absolute_error: 3.0768\n",
            "Epoch 260/275\n",
            "404/404 [==============================] - 0s 56us/step - loss: 16.6521 - mean_absolute_error: 3.0220\n",
            "Epoch 261/275\n",
            "404/404 [==============================] - 0s 61us/step - loss: 15.1721 - mean_absolute_error: 2.8410\n",
            "Epoch 262/275\n",
            "404/404 [==============================] - 0s 53us/step - loss: 14.1580 - mean_absolute_error: 2.7612\n",
            "Epoch 263/275\n",
            "404/404 [==============================] - 0s 53us/step - loss: 14.2914 - mean_absolute_error: 2.8090\n",
            "Epoch 264/275\n",
            "404/404 [==============================] - 0s 51us/step - loss: 13.7100 - mean_absolute_error: 2.6999\n",
            "Epoch 265/275\n",
            "404/404 [==============================] - 0s 53us/step - loss: 13.6129 - mean_absolute_error: 2.7436\n",
            "Epoch 266/275\n",
            "404/404 [==============================] - 0s 57us/step - loss: 13.3692 - mean_absolute_error: 2.6975\n",
            "Epoch 267/275\n",
            "404/404 [==============================] - 0s 52us/step - loss: 14.1820 - mean_absolute_error: 2.8081\n",
            "Epoch 268/275\n",
            "404/404 [==============================] - 0s 50us/step - loss: 14.1399 - mean_absolute_error: 2.7813\n",
            "Epoch 269/275\n",
            "404/404 [==============================] - 0s 53us/step - loss: 14.1369 - mean_absolute_error: 2.7831\n",
            "Epoch 270/275\n",
            "404/404 [==============================] - 0s 53us/step - loss: 13.8891 - mean_absolute_error: 2.7360\n",
            "Epoch 271/275\n",
            "404/404 [==============================] - 0s 56us/step - loss: 14.7907 - mean_absolute_error: 2.8105\n",
            "Epoch 272/275\n",
            "404/404 [==============================] - 0s 52us/step - loss: 14.2671 - mean_absolute_error: 2.7725\n",
            "Epoch 273/275\n",
            "404/404 [==============================] - 0s 51us/step - loss: 13.8861 - mean_absolute_error: 2.7303\n",
            "Epoch 274/275\n",
            "404/404 [==============================] - 0s 50us/step - loss: 14.4963 - mean_absolute_error: 2.7877\n",
            "Epoch 275/275\n",
            "404/404 [==============================] - 0s 56us/step - loss: 16.8538 - mean_absolute_error: 3.0364\n"
          ],
          "name": "stdout"
        }
      ]
    },
    {
      "cell_type": "code",
      "metadata": {
        "id": "OPJ6GVHXNiu_",
        "colab_type": "code",
        "colab": {
          "base_uri": "https://localhost:8080/",
          "height": 54
        },
        "outputId": "40982201-79b5-4fa1-8c96-368dfab2822f"
      },
      "source": [
        "scores = model.evaluate(test_data, test_targets)\n",
        "scores"
      ],
      "execution_count": 8,
      "outputs": [
        {
          "output_type": "stream",
          "text": [
            "102/102 [==============================] - 0s 323us/step\n"
          ],
          "name": "stdout"
        },
        {
          "output_type": "execute_result",
          "data": {
            "text/plain": [
              "[31.404232698328354, 4.128691504983341]"
            ]
          },
          "metadata": {
            "tags": []
          },
          "execution_count": 8
        }
      ]
    },
    {
      "cell_type": "code",
      "metadata": {
        "id": "iqlnY1aQRL4q",
        "colab_type": "code",
        "colab": {}
      },
      "source": [
        "training_loss = history.history['loss']\n",
        "epoch_count = range(1, len(training_loss)+1)\n"
      ],
      "execution_count": 0,
      "outputs": []
    },
    {
      "cell_type": "code",
      "metadata": {
        "id": "1FL2kPaTS-Pg",
        "colab_type": "code",
        "colab": {
          "base_uri": "https://localhost:8080/",
          "height": 287
        },
        "outputId": "3f67eae7-a976-40d6-88e7-7648c3bb2674"
      },
      "source": [
        "plt.plot(epoch_count, training_loss)"
      ],
      "execution_count": 10,
      "outputs": [
        {
          "output_type": "execute_result",
          "data": {
            "text/plain": [
              "[<matplotlib.lines.Line2D at 0x7f7ddf21f048>]"
            ]
          },
          "metadata": {
            "tags": []
          },
          "execution_count": 10
        },
        {
          "output_type": "display_data",
          "data": {
            "image/png": "[encoded data removed]",
            "text/plain": [
              "<Figure size 432x288 with 1 Axes>"
            ]
          },
          "metadata": {
            "tags": []
          }
        }
      ]
    },
    {
      "cell_type": "markdown",
      "metadata": {
        "id": "SfcFnOONyuNm",
        "colab_type": "text"
      },
      "source": [
        "## Use the Keras Library to build an image recognition network using the Fashion-MNIST dataset (also comes with keras)\n",
        "\n",
        "- Load and preprocess the image data similar to how we preprocessed the MNIST data in class.\n",
        "- Make sure to one-hot encode your category labels\n",
        "- Make sure to have your final layer have as many nodes as the number of classes that you want to predict.\n",
        "- Try different hyperparameters. What is the highest accuracy that you are able to achieve.\n",
        "- Use the history object that is returned from model.fit to make graphs of the model's loss or train/validation accuracies by epoch. \n",
        "- Remember that neural networks fall prey to randomness so you may need to run your model multiple times (or use Cross Validation) in order to tell if a change to a hyperparameter is truly producing better results."
      ]
    },
    {
      "cell_type": "code",
      "metadata": {
        "id": "szi6-IpuzaH1",
        "colab_type": "code",
        "colab": {
          "base_uri": "https://localhost:8080/",
          "height": 164
        },
        "outputId": "ae37e5f6-b4e7-40f0-f7db-a4f418b8763e"
      },
      "source": [
        "from keras.datasets import fashion_mnist\n",
        "\n",
        "(x_train, y_train), (x_test, y_test) = fashion_mnist.load_data()"
      ],
      "execution_count": 11,
      "outputs": [
        {
          "output_type": "stream",
          "text": [
            "Downloading data from http://fashion-mnist.s3-website.eu-central-1.amazonaws.com/train-labels-idx1-ubyte.gz\n",
            "32768/29515 [=================================] - 0s 4us/step\n",
            "Downloading data from http://fashion-mnist.s3-website.eu-central-1.amazonaws.com/train-images-idx3-ubyte.gz\n",
            "26427392/26421880 [==============================] - 2s 0us/step\n",
            "Downloading data from http://fashion-mnist.s3-website.eu-central-1.amazonaws.com/t10k-labels-idx1-ubyte.gz\n",
            "8192/5148 [===============================================] - 0s 0us/step\n",
            "Downloading data from http://fashion-mnist.s3-website.eu-central-1.amazonaws.com/t10k-images-idx3-ubyte.gz\n",
            "4423680/4422102 [==============================] - 1s 0us/step\n"
          ],
          "name": "stdout"
        }
      ]
    },
    {
      "cell_type": "code",
      "metadata": {
        "id": "QRWiN2ouVoh2",
        "colab_type": "code",
        "colab": {
          "base_uri": "https://localhost:8080/",
          "height": 72
        },
        "outputId": "6af32812-671a-46a7-a495-fc97b72168f5"
      },
      "source": [
        "!pip install -q tensorflow==2.0.0-beta\n",
        "import tensorflow as tf\n",
        "from tensorflow import keras"
      ],
      "execution_count": 12,
      "outputs": [
        {
          "output_type": "stream",
          "text": [
            "\u001b[K     |████████████████████████████████| 87.9MB 87kB/s \n",
            "\u001b[K     |████████████████████████████████| 501kB 45.5MB/s \n",
            "\u001b[K     |████████████████████████████████| 3.1MB 40.7MB/s \n",
            "\u001b[?25h"
          ],
          "name": "stdout"
        }
      ]
    },
    {
      "cell_type": "code",
      "metadata": {
        "id": "dhPBdDU-cpfU",
        "colab_type": "code",
        "colab": {}
      },
      "source": [
        "x_train = x_train / 255\n",
        "x_test = x_test /255"
      ],
      "execution_count": 0,
      "outputs": []
    },
    {
      "cell_type": "code",
      "metadata": {
        "id": "alGBDTVJdrs8",
        "colab_type": "code",
        "colab": {
          "base_uri": "https://localhost:8080/",
          "height": 269
        },
        "outputId": "5ce004de-6448-4f76-a622-b7606b2df442"
      },
      "source": [
        "for i in range(25):\n",
        "  plt.subplot(5, 5, i+1)\n",
        "  plt.imshow(x_train[i])"
      ],
      "execution_count": 14,
      "outputs": [
        {
          "output_type": "display_data",
          "data": {
            "image/png": "[encoded data removed]",
            "text/plain": [
              "<Figure size 432x288 with 25 Axes>"
            ]
          },
          "metadata": {
            "tags": []
          }
        }
      ]
    },
    {
      "cell_type": "code",
      "metadata": {
        "id": "6VW63KZZxNrY",
        "colab_type": "code",
        "colab": {}
      },
      "source": [
        "model = keras.Sequential([\n",
        "    keras.layers.Flatten(input_shape=(28, 28)),\n",
        "    keras.layers.Dense(128, activation='relu'),\n",
        "    keras.layers.Dense(128, activation='relu'),\n",
        "    keras.layers.Dropout(rate = .2),\n",
        "    keras.layers.Dense(64, activation = 'sigmoid'),\n",
        "    keras.layers.Dense(10, activation='softmax')\n",
        "])\n"
      ],
      "execution_count": 0,
      "outputs": []
    },
    {
      "cell_type": "code",
      "metadata": {
        "id": "qT_A2ZPDxouh",
        "colab_type": "code",
        "colab": {}
      },
      "source": [
        "model.compile(optimizer='adam',\n",
        "              loss='sparse_categorical_crossentropy',\n",
        "              metrics=['accuracy'])\n"
      ],
      "execution_count": 0,
      "outputs": []
    },
    {
      "cell_type": "code",
      "metadata": {
        "id": "LomXAiOMxuRA",
        "colab_type": "code",
        "colab": {
          "base_uri": "https://localhost:8080/",
          "height": 1137
        },
        "outputId": "b3024429-3efd-4c23-aa5e-26a017165e10"
      },
      "source": [
        "model.fit(x_train, y_train, epochs=30)\n"
      ],
      "execution_count": 22,
      "outputs": [
        {
          "output_type": "stream",
          "text": [
            "Epoch 1/30\n",
            "60000/60000 [==============================] - 6s 97us/sample - loss: 0.5564 - acc: 0.8056\n",
            "Epoch 2/30\n",
            "60000/60000 [==============================] - 5s 86us/sample - loss: 0.3785 - acc: 0.8629\n",
            "Epoch 3/30\n",
            "60000/60000 [==============================] - 5s 85us/sample - loss: 0.3414 - acc: 0.8753\n",
            "Epoch 4/30\n",
            "60000/60000 [==============================] - 5s 88us/sample - loss: 0.3182 - acc: 0.8834\n",
            "Epoch 5/30\n",
            "60000/60000 [==============================] - 5s 86us/sample - loss: 0.3023 - acc: 0.8877\n",
            "Epoch 6/30\n",
            "60000/60000 [==============================] - 5s 84us/sample - loss: 0.2904 - acc: 0.8928\n",
            "Epoch 7/30\n",
            "60000/60000 [==============================] - 5s 84us/sample - loss: 0.2780 - acc: 0.8974\n",
            "Epoch 8/30\n",
            "60000/60000 [==============================] - 6s 94us/sample - loss: 0.2692 - acc: 0.9002\n",
            "Epoch 9/30\n",
            "60000/60000 [==============================] - 6s 100us/sample - loss: 0.2580 - acc: 0.9037\n",
            "Epoch 10/30\n",
            "60000/60000 [==============================] - 5s 92us/sample - loss: 0.2508 - acc: 0.9063\n",
            "Epoch 11/30\n",
            "60000/60000 [==============================] - 5s 89us/sample - loss: 0.2440 - acc: 0.9097\n",
            "Epoch 12/30\n",
            "60000/60000 [==============================] - 5s 90us/sample - loss: 0.2370 - acc: 0.9118\n",
            "Epoch 13/30\n",
            "60000/60000 [==============================] - 6s 95us/sample - loss: 0.2307 - acc: 0.9129\n",
            "Epoch 14/30\n",
            "60000/60000 [==============================] - 6s 93us/sample - loss: 0.2259 - acc: 0.9158\n",
            "Epoch 15/30\n",
            "60000/60000 [==============================] - 6s 94us/sample - loss: 0.2201 - acc: 0.9175\n",
            "Epoch 16/30\n",
            "60000/60000 [==============================] - 6s 93us/sample - loss: 0.2150 - acc: 0.9183\n",
            "Epoch 17/30\n",
            "60000/60000 [==============================] - 6s 93us/sample - loss: 0.2120 - acc: 0.9202\n",
            "Epoch 18/30\n",
            "60000/60000 [==============================] - 5s 89us/sample - loss: 0.2074 - acc: 0.9219\n",
            "Epoch 19/30\n",
            "60000/60000 [==============================] - 5s 86us/sample - loss: 0.2019 - acc: 0.9230\n",
            "Epoch 20/30\n",
            "60000/60000 [==============================] - 5s 90us/sample - loss: 0.2003 - acc: 0.9255\n",
            "Epoch 21/30\n",
            "60000/60000 [==============================] - 6s 92us/sample - loss: 0.1931 - acc: 0.9276\n",
            "Epoch 22/30\n",
            "60000/60000 [==============================] - 5s 88us/sample - loss: 0.1919 - acc: 0.9277\n",
            "Epoch 23/30\n",
            "60000/60000 [==============================] - 5s 89us/sample - loss: 0.1858 - acc: 0.9290\n",
            "Epoch 24/30\n",
            "60000/60000 [==============================] - 5s 90us/sample - loss: 0.1834 - acc: 0.9312\n",
            "Epoch 25/30\n",
            "60000/60000 [==============================] - 5s 89us/sample - loss: 0.1799 - acc: 0.9330\n",
            "Epoch 26/30\n",
            "60000/60000 [==============================] - 6s 96us/sample - loss: 0.1758 - acc: 0.9336\n",
            "Epoch 27/30\n",
            "60000/60000 [==============================] - 6s 92us/sample - loss: 0.1762 - acc: 0.9334\n",
            "Epoch 28/30\n",
            "60000/60000 [==============================] - 5s 90us/sample - loss: 0.1734 - acc: 0.9342\n",
            "Epoch 29/30\n",
            "60000/60000 [==============================] - 5s 91us/sample - loss: 0.1700 - acc: 0.9353\n",
            "Epoch 30/30\n",
            "60000/60000 [==============================] - 5s 88us/sample - loss: 0.1644 - acc: 0.9388\n"
          ],
          "name": "stdout"
        },
        {
          "output_type": "execute_result",
          "data": {
            "text/plain": [
              "<tensorflow.python.keras.callbacks.History at 0x7f7dd8f10f60>"
            ]
          },
          "metadata": {
            "tags": []
          },
          "execution_count": 22
        }
      ]
    },
    {
      "cell_type": "code",
      "metadata": {
        "id": "s282yWFn0WPm",
        "colab_type": "code",
        "colab": {
          "base_uri": "https://localhost:8080/",
          "height": 54
        },
        "outputId": "5a020fee-85f3-4caf-8321-3f4539e7bf26"
      },
      "source": [
        "model.evaluate(x_test, y_test)"
      ],
      "execution_count": 23,
      "outputs": [
        {
          "output_type": "stream",
          "text": [
            "10000/10000 [==============================] - 0s 42us/sample - loss: 0.3524 - acc: 0.8939\n"
          ],
          "name": "stdout"
        },
        {
          "output_type": "execute_result",
          "data": {
            "text/plain": [
              "[0.3523651665568352, 0.8939]"
            ]
          },
          "metadata": {
            "tags": []
          },
          "execution_count": 23
        }
      ]
    },
    {
      "cell_type": "markdown",
      "metadata": {
        "id": "zv_3xNMjzdLI",
        "colab_type": "text"
      },
      "source": [
        "## Stretch Goals:\n",
        "\n",
        "- Use Hyperparameter Tuning to make the accuracy of your models as high as possible. (error as low as possible)\n",
        "- Use Cross Validation techniques to get more consistent results with your model.\n",
        "- Use GridSearchCV to try different combinations of hyperparameters. \n",
        "- Start looking into other types of Keras layers for CNNs and RNNs maybe try and build a CNN model for fashion-MNIST to see how the results compare."
      ]
    }
  ]
}